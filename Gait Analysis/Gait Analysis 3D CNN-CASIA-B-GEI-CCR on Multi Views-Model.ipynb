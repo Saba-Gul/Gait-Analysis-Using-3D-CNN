{
 "cells": [
  {
   "cell_type": "code",
   "execution_count": 1,
   "metadata": {},
   "outputs": [
    {
     "name": "stderr",
     "output_type": "stream",
     "text": [
      "C:\\Users\\Hp\\Anaconda3\\envs\\Titanium\\lib\\site-packages\\tensorflow\\python\\framework\\dtypes.py:526: FutureWarning: Passing (type, 1) or '1type' as a synonym of type is deprecated; in a future version of numpy, it will be understood as (type, (1,)) / '(1,)type'.\n",
      "  _np_qint8 = np.dtype([(\"qint8\", np.int8, 1)])\n",
      "C:\\Users\\Hp\\Anaconda3\\envs\\Titanium\\lib\\site-packages\\tensorflow\\python\\framework\\dtypes.py:527: FutureWarning: Passing (type, 1) or '1type' as a synonym of type is deprecated; in a future version of numpy, it will be understood as (type, (1,)) / '(1,)type'.\n",
      "  _np_quint8 = np.dtype([(\"quint8\", np.uint8, 1)])\n",
      "C:\\Users\\Hp\\Anaconda3\\envs\\Titanium\\lib\\site-packages\\tensorflow\\python\\framework\\dtypes.py:528: FutureWarning: Passing (type, 1) or '1type' as a synonym of type is deprecated; in a future version of numpy, it will be understood as (type, (1,)) / '(1,)type'.\n",
      "  _np_qint16 = np.dtype([(\"qint16\", np.int16, 1)])\n",
      "C:\\Users\\Hp\\Anaconda3\\envs\\Titanium\\lib\\site-packages\\tensorflow\\python\\framework\\dtypes.py:529: FutureWarning: Passing (type, 1) or '1type' as a synonym of type is deprecated; in a future version of numpy, it will be understood as (type, (1,)) / '(1,)type'.\n",
      "  _np_quint16 = np.dtype([(\"quint16\", np.uint16, 1)])\n",
      "C:\\Users\\Hp\\Anaconda3\\envs\\Titanium\\lib\\site-packages\\tensorflow\\python\\framework\\dtypes.py:530: FutureWarning: Passing (type, 1) or '1type' as a synonym of type is deprecated; in a future version of numpy, it will be understood as (type, (1,)) / '(1,)type'.\n",
      "  _np_qint32 = np.dtype([(\"qint32\", np.int32, 1)])\n",
      "C:\\Users\\Hp\\Anaconda3\\envs\\Titanium\\lib\\site-packages\\tensorflow\\python\\framework\\dtypes.py:535: FutureWarning: Passing (type, 1) or '1type' as a synonym of type is deprecated; in a future version of numpy, it will be understood as (type, (1,)) / '(1,)type'.\n",
      "  np_resource = np.dtype([(\"resource\", np.ubyte, 1)])\n"
     ]
    }
   ],
   "source": [
    "import tensorflow as tf\n",
    "from tensorflow.keras.datasets import cifar10\n",
    "from tensorflow.keras.preprocessing.image import ImageDataGenerator\n",
    "from tensorflow.keras.models import Sequential\n",
    "from tensorflow.keras.layers import Dense, Dropout, Activation, Flatten\n",
    "from tensorflow.keras.layers import Conv2D, MaxPooling2D\n",
    "import numpy as np\n",
    "import os\n",
    "import pickle\n",
    "import cv2\n",
    "pickle_in = open(\"X.pickle\",\"rb\")\n",
    "X = pickle.load(pickle_in)\n",
    "\n",
    "pickle_in = open(\"y.pickle\",\"rb\")\n",
    "y = pickle.load(pickle_in)\n",
    "num_classes=124\n",
    "X = X/255.0\n",
    "\n",
    "y=np.array(y)"
   ]
  },
  {
   "cell_type": "code",
   "execution_count": 2,
   "metadata": {},
   "outputs": [
    {
     "name": "stderr",
     "output_type": "stream",
     "text": [
      "Using TensorFlow backend.\n"
     ]
    },
    {
     "data": {
      "text/html": [
       "        <script type=\"text/javascript\">\n",
       "        window.PlotlyConfig = {MathJaxConfig: 'local'};\n",
       "        if (window.MathJax) {MathJax.Hub.Config({SVG: {font: \"STIX-Web\"}});}\n",
       "        if (typeof require !== 'undefined') {\n",
       "        require.undef(\"plotly\");\n",
       "        requirejs.config({\n",
       "            paths: {\n",
       "                'plotly': ['https://cdn.plot.ly/plotly-latest.min']\n",
       "            }\n",
       "        });\n",
       "        require(['plotly'], function(Plotly) {\n",
       "            window._Plotly = Plotly;\n",
       "        });\n",
       "        }\n",
       "        </script>\n",
       "        "
      ]
     },
     "metadata": {},
     "output_type": "display_data"
    }
   ],
   "source": [
    "from keras.layers import Conv3D, MaxPool3D, Flatten, Dense\n",
    "from keras.layers import Dropout, Input, BatchNormalization\n",
    "from sklearn.metrics import confusion_matrix, accuracy_score\n",
    "from plotly.offline import iplot, init_notebook_mode\n",
    "from keras.losses import categorical_crossentropy\n",
    "from keras.optimizers import Adadelta\n",
    "import plotly.graph_objs as go\n",
    "from matplotlib.pyplot import cm\n",
    "from keras.models import Model\n",
    "import numpy as np\n",
    "import keras\n",
    "import h5py\n",
    "\n",
    "init_notebook_mode(connected=True)\n",
    "%matplotlib inline"
   ]
  },
  {
   "cell_type": "code",
   "execution_count": 3,
   "metadata": {},
   "outputs": [
    {
     "data": {
      "text/plain": [
       "(13219, 120, 120, 1)"
      ]
     },
     "execution_count": 3,
     "metadata": {},
     "output_type": "execute_result"
    }
   ],
   "source": [
    "X.shape"
   ]
  },
  {
   "cell_type": "code",
   "execution_count": 4,
   "metadata": {},
   "outputs": [],
   "source": [
    "from tensorflow.keras.models import Sequential"
   ]
  },
  {
   "cell_type": "code",
   "execution_count": 5,
   "metadata": {},
   "outputs": [],
   "source": [
    "X= X.reshape(X.shape[0], 30, 30, -1, 1)"
   ]
  },
  {
   "cell_type": "code",
   "execution_count": 6,
   "metadata": {},
   "outputs": [],
   "source": [
    "from sklearn.model_selection import train_test_split\n",
    "# split again, and we should see the same split\n",
    "X_train, X_tes, y_train, y_tes = train_test_split(X, y, test_size=0.3, random_state=1)"
   ]
  },
  {
   "cell_type": "code",
   "execution_count": 7,
   "metadata": {},
   "outputs": [],
   "source": [
    "X_val=X_tes[:1983]\n",
    "X_val.shape\n",
    "X_test=X_tes[1983:]"
   ]
  },
  {
   "cell_type": "code",
   "execution_count": 8,
   "metadata": {},
   "outputs": [],
   "source": [
    "y_val=y_tes[:1983]\n",
    "y_val.shape\n",
    "y_test=y_tes[1983:]"
   ]
  },
  {
   "cell_type": "code",
   "execution_count": 9,
   "metadata": {},
   "outputs": [
    {
     "name": "stdout",
     "output_type": "stream",
     "text": [
      "WARNING:tensorflow:From C:\\Users\\Hp\\Anaconda3\\envs\\Titanium\\lib\\site-packages\\tensorflow\\python\\framework\\op_def_library.py:263: colocate_with (from tensorflow.python.framework.ops) is deprecated and will be removed in a future version.\n",
      "Instructions for updating:\n",
      "Colocations handled automatically by placer.\n",
      "WARNING:tensorflow:From C:\\Users\\Hp\\Anaconda3\\envs\\Titanium\\lib\\site-packages\\keras\\backend\\tensorflow_backend.py:3445: calling dropout (from tensorflow.python.ops.nn_ops) with keep_prob is deprecated and will be removed in a future version.\n",
      "Instructions for updating:\n",
      "Please use `rate` instead of `keep_prob`. Rate should be set to `rate = 1 - keep_prob`.\n"
     ]
    }
   ],
   "source": [
    "## input layer\n",
    "input_layer = Input((30, 30,16, 1))\n",
    "\n",
    "## convolutional layers\n",
    "conv_layer1 = Conv3D(filters=8, kernel_size=(3, 3, 3), activation='relu')(input_layer)\n",
    "conv_layer2 = Conv3D(filters=16, kernel_size=(3, 3, 3), activation='relu')(conv_layer1)\n",
    "\n",
    "## add max pooling to obtain the most imformatic features\n",
    "pooling_layer1 = MaxPool3D(pool_size=(2, 2, 2))(conv_layer2)\n",
    "\n",
    "conv_layer3 = Conv3D(filters=32, kernel_size=(3, 3, 3), activation='relu')(pooling_layer1)\n",
    "conv_layer4 = Conv3D(filters=64, kernel_size=(3, 3, 3), activation='relu')(conv_layer3)\n",
    "pooling_layer2 = MaxPool3D(pool_size=(2, 2, 2))(conv_layer4)\n",
    "\n",
    "## perform batch normalization on the convolution outputs before feeding it to MLP architecture\n",
    "pooling_layer2 = BatchNormalization()(pooling_layer2)\n",
    "flatten_layer = Flatten()(pooling_layer2)\n",
    "\n",
    "## create an MLP architecture with dense layers : 4096 -> 512 -> 10\n",
    "## add dropouts to avoid overfitting / perform regularization\n",
    "dense_layer1 = Dense(units=2048, activation='relu')(flatten_layer)\n",
    "dense_layer1 = Dropout(0.4)(dense_layer1)\n",
    "dense_layer2 = Dense(units=512, activation='relu')(dense_layer1)\n",
    "dense_layer2 = Dropout(0.4)(dense_layer2)\n",
    "output_layer = Dense(units=124, activation='softmax')(dense_layer2)\n",
    "\n",
    "## define the model with input layer and output layer\n",
    "model = Model(inputs=input_layer, outputs=output_layer)"
   ]
  },
  {
   "cell_type": "code",
   "execution_count": 10,
   "metadata": {},
   "outputs": [
    {
     "name": "stdout",
     "output_type": "stream",
     "text": [
      "_________________________________________________________________\n",
      "Layer (type)                 Output Shape              Param #   \n",
      "=================================================================\n",
      "input_1 (InputLayer)         (None, 30, 30, 16, 1)     0         \n",
      "_________________________________________________________________\n",
      "conv3d_1 (Conv3D)            (None, 28, 28, 14, 8)     224       \n",
      "_________________________________________________________________\n",
      "conv3d_2 (Conv3D)            (None, 26, 26, 12, 16)    3472      \n",
      "_________________________________________________________________\n",
      "max_pooling3d_1 (MaxPooling3 (None, 13, 13, 6, 16)     0         \n",
      "_________________________________________________________________\n",
      "conv3d_3 (Conv3D)            (None, 11, 11, 4, 32)     13856     \n",
      "_________________________________________________________________\n",
      "conv3d_4 (Conv3D)            (None, 9, 9, 2, 64)       55360     \n",
      "_________________________________________________________________\n",
      "max_pooling3d_2 (MaxPooling3 (None, 4, 4, 1, 64)       0         \n",
      "_________________________________________________________________\n",
      "batch_normalization_1 (Batch (None, 4, 4, 1, 64)       256       \n",
      "_________________________________________________________________\n",
      "flatten_1 (Flatten)          (None, 1024)              0         \n",
      "_________________________________________________________________\n",
      "dense_1 (Dense)              (None, 2048)              2099200   \n",
      "_________________________________________________________________\n",
      "dropout_1 (Dropout)          (None, 2048)              0         \n",
      "_________________________________________________________________\n",
      "dense_2 (Dense)              (None, 512)               1049088   \n",
      "_________________________________________________________________\n",
      "dropout_2 (Dropout)          (None, 512)               0         \n",
      "_________________________________________________________________\n",
      "dense_3 (Dense)              (None, 124)               63612     \n",
      "=================================================================\n",
      "Total params: 3,285,068\n",
      "Trainable params: 3,284,940\n",
      "Non-trainable params: 128\n",
      "_________________________________________________________________\n"
     ]
    }
   ],
   "source": [
    "model.summary()"
   ]
  },
  {
   "cell_type": "code",
   "execution_count": 11,
   "metadata": {},
   "outputs": [],
   "source": [
    "opt = keras.optimizers.rmsprop(lr=0.0001, decay=1e-6)"
   ]
  },
  {
   "cell_type": "code",
   "execution_count": 12,
   "metadata": {},
   "outputs": [
    {
     "name": "stdout",
     "output_type": "stream",
     "text": [
      "WARNING:tensorflow:From C:\\Users\\Hp\\Anaconda3\\envs\\Titanium\\lib\\site-packages\\tensorflow\\python\\ops\\math_ops.py:3066: to_int32 (from tensorflow.python.ops.math_ops) is deprecated and will be removed in a future version.\n",
      "Instructions for updating:\n",
      "Use tf.cast instead.\n",
      "Train on 9253 samples, validate on 1983 samples\n",
      "Epoch 1/150\n",
      "9253/9253 [==============================] - 11s 1ms/step - loss: 4.8220 - acc: 0.0094 - sparse_top_k_categorical_accuracy: 0.0454 - val_loss: 4.8208 - val_acc: 0.0055 - val_sparse_top_k_categorical_accuracy: 0.0454\n",
      "Epoch 2/150\n",
      "9253/9253 [==============================] - 7s 717us/step - loss: 4.7710 - acc: 0.0176 - sparse_top_k_categorical_accuracy: 0.0712 - val_loss: 4.8845 - val_acc: 0.0111 - val_sparse_top_k_categorical_accuracy: 0.0454\n",
      "Epoch 3/150\n",
      "9253/9253 [==============================] - 7s 718us/step - loss: 4.5180 - acc: 0.0390 - sparse_top_k_categorical_accuracy: 0.1429 - val_loss: 4.4184 - val_acc: 0.0373 - val_sparse_top_k_categorical_accuracy: 0.1609\n",
      "Epoch 4/150\n",
      "9253/9253 [==============================] - 7s 720us/step - loss: 3.9523 - acc: 0.1034 - sparse_top_k_categorical_accuracy: 0.2991 - val_loss: 5.7020 - val_acc: 0.0530 - val_sparse_top_k_categorical_accuracy: 0.1165\n",
      "Epoch 5/150\n",
      "9253/9253 [==============================] - 7s 717us/step - loss: 3.1541 - acc: 0.2257 - sparse_top_k_categorical_accuracy: 0.5197 - val_loss: 4.2882 - val_acc: 0.0918 - val_sparse_top_k_categorical_accuracy: 0.3369\n",
      "Epoch 6/150\n",
      "9253/9253 [==============================] - 7s 715us/step - loss: 2.3492 - acc: 0.3831 - sparse_top_k_categorical_accuracy: 0.7188 - val_loss: 2.3435 - val_acc: 0.3530 - val_sparse_top_k_categorical_accuracy: 0.7151\n",
      "Epoch 7/150\n",
      "9253/9253 [==============================] - 7s 716us/step - loss: 1.7334 - acc: 0.5287 - sparse_top_k_categorical_accuracy: 0.8415 - val_loss: 2.1250 - val_acc: 0.4070 - val_sparse_top_k_categorical_accuracy: 0.7574\n",
      "Epoch 8/150\n",
      "9253/9253 [==============================] - 7s 717us/step - loss: 1.3008 - acc: 0.6357 - sparse_top_k_categorical_accuracy: 0.9039 - val_loss: 1.5979 - val_acc: 0.5260 - val_sparse_top_k_categorical_accuracy: 0.8517\n",
      "Epoch 9/150\n",
      "9253/9253 [==============================] - 7s 716us/step - loss: 1.0068 - acc: 0.7151 - sparse_top_k_categorical_accuracy: 0.9360 - val_loss: 1.7611 - val_acc: 0.5532 - val_sparse_top_k_categorical_accuracy: 0.8361\n",
      "Epoch 10/150\n",
      "9253/9253 [==============================] - 7s 714us/step - loss: 0.7887 - acc: 0.7740 - sparse_top_k_categorical_accuracy: 0.9606 - val_loss: 6.7531 - val_acc: 0.1316 - val_sparse_top_k_categorical_accuracy: 0.3313\n",
      "Epoch 11/150\n",
      "9253/9253 [==============================] - 7s 707us/step - loss: 0.6109 - acc: 0.8237 - sparse_top_k_categorical_accuracy: 0.9753 - val_loss: 0.5196 - val_acc: 0.8593 - val_sparse_top_k_categorical_accuracy: 0.9803\n",
      "Epoch 12/150\n",
      "9253/9253 [==============================] - 7s 716us/step - loss: 0.5073 - acc: 0.8499 - sparse_top_k_categorical_accuracy: 0.9841 - val_loss: 0.6679 - val_acc: 0.7907 - val_sparse_top_k_categorical_accuracy: 0.9652\n",
      "Epoch 13/150\n",
      "9253/9253 [==============================] - 7s 718us/step - loss: 0.4158 - acc: 0.8780 - sparse_top_k_categorical_accuracy: 0.9894 - val_loss: 0.7784 - val_acc: 0.7756 - val_sparse_top_k_categorical_accuracy: 0.9536\n",
      "Epoch 14/150\n",
      "9253/9253 [==============================] - 7s 719us/step - loss: 0.3463 - acc: 0.8981 - sparse_top_k_categorical_accuracy: 0.9934 - val_loss: 0.2818 - val_acc: 0.9284 - val_sparse_top_k_categorical_accuracy: 0.9889\n",
      "Epoch 15/150\n",
      "9253/9253 [==============================] - 7s 718us/step - loss: 0.3028 - acc: 0.9095 - sparse_top_k_categorical_accuracy: 0.9937 - val_loss: 0.3298 - val_acc: 0.9067 - val_sparse_top_k_categorical_accuracy: 0.9909\n",
      "Epoch 16/150\n",
      "9253/9253 [==============================] - 7s 718us/step - loss: 0.2570 - acc: 0.9234 - sparse_top_k_categorical_accuracy: 0.9962 - val_loss: 0.6482 - val_acc: 0.8018 - val_sparse_top_k_categorical_accuracy: 0.9652\n",
      "Epoch 17/150\n",
      "9253/9253 [==============================] - 7s 718us/step - loss: 0.2186 - acc: 0.9342 - sparse_top_k_categorical_accuracy: 0.9970 - val_loss: 0.7599 - val_acc: 0.7806 - val_sparse_top_k_categorical_accuracy: 0.9566\n",
      "Epoch 18/150\n",
      "9253/9253 [==============================] - 7s 717us/step - loss: 0.1924 - acc: 0.9441 - sparse_top_k_categorical_accuracy: 0.9978 - val_loss: 0.4449 - val_acc: 0.8709 - val_sparse_top_k_categorical_accuracy: 0.9854\n",
      "Epoch 19/150\n",
      "9253/9253 [==============================] - 7s 718us/step - loss: 0.1750 - acc: 0.9475 - sparse_top_k_categorical_accuracy: 0.9984 - val_loss: 0.4268 - val_acc: 0.8674 - val_sparse_top_k_categorical_accuracy: 0.9839\n",
      "Epoch 20/150\n",
      "9253/9253 [==============================] - 7s 718us/step - loss: 0.1474 - acc: 0.9559 - sparse_top_k_categorical_accuracy: 0.9988 - val_loss: 0.6527 - val_acc: 0.8195 - val_sparse_top_k_categorical_accuracy: 0.9697\n",
      "Epoch 21/150\n",
      "9253/9253 [==============================] - 7s 719us/step - loss: 0.1436 - acc: 0.9580 - sparse_top_k_categorical_accuracy: 0.9985 - val_loss: 0.2559 - val_acc: 0.9254 - val_sparse_top_k_categorical_accuracy: 0.9924\n",
      "Epoch 22/150\n",
      "9253/9253 [==============================] - 7s 719us/step - loss: 0.1261 - acc: 0.9631 - sparse_top_k_categorical_accuracy: 0.9991 - val_loss: 0.2642 - val_acc: 0.9213 - val_sparse_top_k_categorical_accuracy: 0.9919\n",
      "Epoch 23/150\n",
      "9253/9253 [==============================] - 7s 720us/step - loss: 0.1223 - acc: 0.9643 - sparse_top_k_categorical_accuracy: 0.9996 - val_loss: 0.4288 - val_acc: 0.8623 - val_sparse_top_k_categorical_accuracy: 0.9859\n",
      "Epoch 24/150\n",
      "9253/9253 [==============================] - 7s 719us/step - loss: 0.1088 - acc: 0.9682 - sparse_top_k_categorical_accuracy: 0.9997 - val_loss: 0.1231 - val_acc: 0.9592 - val_sparse_top_k_categorical_accuracy: 0.9985\n",
      "Epoch 25/150\n",
      "9253/9253 [==============================] - 7s 721us/step - loss: 0.1014 - acc: 0.9704 - sparse_top_k_categorical_accuracy: 0.9998 - val_loss: 0.2418 - val_acc: 0.9218 - val_sparse_top_k_categorical_accuracy: 0.9939\n",
      "Epoch 26/150\n",
      "9253/9253 [==============================] - 7s 721us/step - loss: 0.0920 - acc: 0.9729 - sparse_top_k_categorical_accuracy: 0.9996 - val_loss: 0.1219 - val_acc: 0.9561 - val_sparse_top_k_categorical_accuracy: 0.9975\n",
      "Epoch 27/150\n",
      "9253/9253 [==============================] - 7s 718us/step - loss: 0.0953 - acc: 0.9713 - sparse_top_k_categorical_accuracy: 0.9997 - val_loss: 0.1300 - val_acc: 0.9592 - val_sparse_top_k_categorical_accuracy: 0.9960\n",
      "Epoch 28/150\n",
      "9253/9253 [==============================] - 7s 721us/step - loss: 0.0894 - acc: 0.9722 - sparse_top_k_categorical_accuracy: 0.9997 - val_loss: 0.2327 - val_acc: 0.9259 - val_sparse_top_k_categorical_accuracy: 0.9914\n",
      "Epoch 29/150\n",
      "9253/9253 [==============================] - 7s 720us/step - loss: 0.0777 - acc: 0.9776 - sparse_top_k_categorical_accuracy: 0.9997 - val_loss: 0.1265 - val_acc: 0.9627 - val_sparse_top_k_categorical_accuracy: 0.9955\n",
      "Epoch 30/150\n",
      "9253/9253 [==============================] - 7s 720us/step - loss: 0.0769 - acc: 0.9763 - sparse_top_k_categorical_accuracy: 0.9998 - val_loss: 0.1124 - val_acc: 0.9647 - val_sparse_top_k_categorical_accuracy: 0.9985\n",
      "Epoch 31/150\n",
      "9253/9253 [==============================] - 7s 721us/step - loss: 0.0725 - acc: 0.9769 - sparse_top_k_categorical_accuracy: 0.9998 - val_loss: 0.3547 - val_acc: 0.8956 - val_sparse_top_k_categorical_accuracy: 0.9854\n",
      "Epoch 32/150\n",
      "9253/9253 [==============================] - 7s 721us/step - loss: 0.0685 - acc: 0.9800 - sparse_top_k_categorical_accuracy: 0.9999 - val_loss: 0.3354 - val_acc: 0.8931 - val_sparse_top_k_categorical_accuracy: 0.9889\n",
      "Epoch 33/150\n",
      "9253/9253 [==============================] - 7s 722us/step - loss: 0.0592 - acc: 0.9805 - sparse_top_k_categorical_accuracy: 0.9999 - val_loss: 0.5843 - val_acc: 0.8245 - val_sparse_top_k_categorical_accuracy: 0.9808\n",
      "Epoch 34/150\n",
      "9253/9253 [==============================] - 7s 721us/step - loss: 0.0588 - acc: 0.9824 - sparse_top_k_categorical_accuracy: 0.9999 - val_loss: 0.0977 - val_acc: 0.9652 - val_sparse_top_k_categorical_accuracy: 0.9975\n",
      "Epoch 35/150\n"
     ]
    },
    {
     "name": "stdout",
     "output_type": "stream",
     "text": [
      "9253/9253 [==============================] - 7s 720us/step - loss: 0.0518 - acc: 0.9839 - sparse_top_k_categorical_accuracy: 1.0000 - val_loss: 0.0854 - val_acc: 0.9733 - val_sparse_top_k_categorical_accuracy: 0.9980\n",
      "Epoch 36/150\n",
      "9253/9253 [==============================] - 7s 720us/step - loss: 0.0562 - acc: 0.9831 - sparse_top_k_categorical_accuracy: 1.0000 - val_loss: 0.1264 - val_acc: 0.9597 - val_sparse_top_k_categorical_accuracy: 0.9980\n",
      "Epoch 37/150\n",
      "9253/9253 [==============================] - 7s 719us/step - loss: 0.0497 - acc: 0.9852 - sparse_top_k_categorical_accuracy: 1.0000 - val_loss: 0.1352 - val_acc: 0.9586 - val_sparse_top_k_categorical_accuracy: 0.9970\n",
      "Epoch 38/150\n",
      "9253/9253 [==============================] - 7s 721us/step - loss: 0.0552 - acc: 0.9830 - sparse_top_k_categorical_accuracy: 1.0000 - val_loss: 0.1367 - val_acc: 0.9571 - val_sparse_top_k_categorical_accuracy: 0.9965\n",
      "Epoch 39/150\n",
      "9253/9253 [==============================] - 7s 721us/step - loss: 0.0536 - acc: 0.9824 - sparse_top_k_categorical_accuracy: 0.9999 - val_loss: 0.0939 - val_acc: 0.9682 - val_sparse_top_k_categorical_accuracy: 0.9985\n",
      "Epoch 40/150\n",
      "9253/9253 [==============================] - 7s 722us/step - loss: 0.0479 - acc: 0.9841 - sparse_top_k_categorical_accuracy: 1.0000 - val_loss: 0.0937 - val_acc: 0.9702 - val_sparse_top_k_categorical_accuracy: 0.9990\n",
      "Epoch 41/150\n",
      "9253/9253 [==============================] - 7s 721us/step - loss: 0.0424 - acc: 0.9879 - sparse_top_k_categorical_accuracy: 1.0000 - val_loss: 0.1123 - val_acc: 0.9612 - val_sparse_top_k_categorical_accuracy: 0.9975\n",
      "Epoch 42/150\n",
      "9253/9253 [==============================] - 7s 720us/step - loss: 0.0472 - acc: 0.9840 - sparse_top_k_categorical_accuracy: 0.9999 - val_loss: 0.0887 - val_acc: 0.9697 - val_sparse_top_k_categorical_accuracy: 0.9985\n",
      "Epoch 43/150\n",
      "9253/9253 [==============================] - 7s 721us/step - loss: 0.0480 - acc: 0.9838 - sparse_top_k_categorical_accuracy: 1.0000 - val_loss: 0.3370 - val_acc: 0.8906 - val_sparse_top_k_categorical_accuracy: 0.9899\n",
      "Epoch 44/150\n",
      "9253/9253 [==============================] - 7s 721us/step - loss: 0.0469 - acc: 0.9849 - sparse_top_k_categorical_accuracy: 1.0000 - val_loss: 0.1038 - val_acc: 0.9667 - val_sparse_top_k_categorical_accuracy: 0.9985\n",
      "Epoch 45/150\n",
      "9253/9253 [==============================] - 7s 721us/step - loss: 0.0391 - acc: 0.9865 - sparse_top_k_categorical_accuracy: 1.0000 - val_loss: 0.0806 - val_acc: 0.9708 - val_sparse_top_k_categorical_accuracy: 0.9985\n",
      "Epoch 46/150\n",
      "9253/9253 [==============================] - 7s 724us/step - loss: 0.0423 - acc: 0.9856 - sparse_top_k_categorical_accuracy: 1.0000 - val_loss: 0.5432 - val_acc: 0.8411 - val_sparse_top_k_categorical_accuracy: 0.9768\n",
      "Epoch 47/150\n",
      "9253/9253 [==============================] - 7s 721us/step - loss: 0.0370 - acc: 0.9895 - sparse_top_k_categorical_accuracy: 1.0000 - val_loss: 0.1247 - val_acc: 0.9597 - val_sparse_top_k_categorical_accuracy: 0.9965\n",
      "Epoch 48/150\n",
      "9253/9253 [==============================] - 7s 721us/step - loss: 0.0382 - acc: 0.9875 - sparse_top_k_categorical_accuracy: 1.0000 - val_loss: 0.0850 - val_acc: 0.9697 - val_sparse_top_k_categorical_accuracy: 0.9985\n",
      "Epoch 49/150\n",
      "9253/9253 [==============================] - 7s 721us/step - loss: 0.0404 - acc: 0.9867 - sparse_top_k_categorical_accuracy: 0.9999 - val_loss: 0.0885 - val_acc: 0.9687 - val_sparse_top_k_categorical_accuracy: 0.9985\n",
      "Epoch 50/150\n",
      "9253/9253 [==============================] - 7s 721us/step - loss: 0.0345 - acc: 0.9889 - sparse_top_k_categorical_accuracy: 1.0000 - val_loss: 0.0798 - val_acc: 0.9768 - val_sparse_top_k_categorical_accuracy: 0.9980\n",
      "Epoch 51/150\n",
      "9253/9253 [==============================] - 7s 722us/step - loss: 0.0355 - acc: 0.9888 - sparse_top_k_categorical_accuracy: 1.0000 - val_loss: 0.0748 - val_acc: 0.9743 - val_sparse_top_k_categorical_accuracy: 0.9985\n",
      "Epoch 52/150\n",
      "9253/9253 [==============================] - 7s 724us/step - loss: 0.0375 - acc: 0.9862 - sparse_top_k_categorical_accuracy: 1.0000 - val_loss: 0.0778 - val_acc: 0.9758 - val_sparse_top_k_categorical_accuracy: 0.9985\n",
      "Epoch 53/150\n",
      "9253/9253 [==============================] - 7s 724us/step - loss: 0.0372 - acc: 0.9878 - sparse_top_k_categorical_accuracy: 1.0000 - val_loss: 0.0779 - val_acc: 0.9723 - val_sparse_top_k_categorical_accuracy: 0.9980\n",
      "Epoch 54/150\n",
      "9253/9253 [==============================] - 7s 724us/step - loss: 0.0314 - acc: 0.9890 - sparse_top_k_categorical_accuracy: 1.0000 - val_loss: 0.0787 - val_acc: 0.9713 - val_sparse_top_k_categorical_accuracy: 0.9990\n",
      "Epoch 55/150\n",
      "9253/9253 [==============================] - 7s 724us/step - loss: 0.0300 - acc: 0.9897 - sparse_top_k_categorical_accuracy: 0.9999 - val_loss: 0.0843 - val_acc: 0.9708 - val_sparse_top_k_categorical_accuracy: 0.9985\n",
      "Epoch 56/150\n",
      "9253/9253 [==============================] - 7s 724us/step - loss: 0.0336 - acc: 0.9888 - sparse_top_k_categorical_accuracy: 1.0000 - val_loss: 0.1020 - val_acc: 0.9652 - val_sparse_top_k_categorical_accuracy: 0.9975\n",
      "Epoch 57/150\n",
      "9253/9253 [==============================] - 7s 723us/step - loss: 0.0333 - acc: 0.9881 - sparse_top_k_categorical_accuracy: 1.0000 - val_loss: 0.0843 - val_acc: 0.9713 - val_sparse_top_k_categorical_accuracy: 0.9980\n",
      "Epoch 58/150\n",
      "9253/9253 [==============================] - 7s 722us/step - loss: 0.0296 - acc: 0.9899 - sparse_top_k_categorical_accuracy: 1.0000 - val_loss: 0.0840 - val_acc: 0.9723 - val_sparse_top_k_categorical_accuracy: 0.9990\n",
      "Epoch 59/150\n",
      "9253/9253 [==============================] - 7s 724us/step - loss: 0.0292 - acc: 0.9893 - sparse_top_k_categorical_accuracy: 1.0000 - val_loss: 0.0894 - val_acc: 0.9697 - val_sparse_top_k_categorical_accuracy: 0.9985\n",
      "Epoch 60/150\n",
      "9253/9253 [==============================] - 7s 723us/step - loss: 0.0300 - acc: 0.9898 - sparse_top_k_categorical_accuracy: 1.0000 - val_loss: 0.0958 - val_acc: 0.9677 - val_sparse_top_k_categorical_accuracy: 0.9985\n",
      "Epoch 61/150\n",
      "9253/9253 [==============================] - 7s 723us/step - loss: 0.0295 - acc: 0.9894 - sparse_top_k_categorical_accuracy: 1.0000 - val_loss: 0.0985 - val_acc: 0.9692 - val_sparse_top_k_categorical_accuracy: 0.9985\n",
      "Epoch 62/150\n",
      "9253/9253 [==============================] - 7s 724us/step - loss: 0.0321 - acc: 0.9875 - sparse_top_k_categorical_accuracy: 1.0000 - val_loss: 0.1266 - val_acc: 0.9602 - val_sparse_top_k_categorical_accuracy: 0.9975\n",
      "Epoch 63/150\n",
      "9253/9253 [==============================] - 7s 723us/step - loss: 0.0268 - acc: 0.9895 - sparse_top_k_categorical_accuracy: 1.0000 - val_loss: 0.1057 - val_acc: 0.9652 - val_sparse_top_k_categorical_accuracy: 0.9985\n",
      "Epoch 64/150\n",
      "9253/9253 [==============================] - 7s 725us/step - loss: 0.0257 - acc: 0.9909 - sparse_top_k_categorical_accuracy: 1.0000 - val_loss: 0.0796 - val_acc: 0.9738 - val_sparse_top_k_categorical_accuracy: 0.9990\n",
      "Epoch 65/150\n",
      "9253/9253 [==============================] - 7s 724us/step - loss: 0.0259 - acc: 0.9903 - sparse_top_k_categorical_accuracy: 1.0000 - val_loss: 0.1582 - val_acc: 0.9506 - val_sparse_top_k_categorical_accuracy: 0.9960\n",
      "Epoch 66/150\n",
      "9253/9253 [==============================] - 7s 719us/step - loss: 0.0295 - acc: 0.9901 - sparse_top_k_categorical_accuracy: 1.0000 - val_loss: 0.0812 - val_acc: 0.9733 - val_sparse_top_k_categorical_accuracy: 0.9985\n",
      "Epoch 67/150\n",
      "9253/9253 [==============================] - 7s 723us/step - loss: 0.0271 - acc: 0.9894 - sparse_top_k_categorical_accuracy: 1.0000 - val_loss: 0.0764 - val_acc: 0.9708 - val_sparse_top_k_categorical_accuracy: 0.9985\n",
      "Epoch 68/150\n",
      "9253/9253 [==============================] - 7s 724us/step - loss: 0.0292 - acc: 0.9895 - sparse_top_k_categorical_accuracy: 1.0000 - val_loss: 0.0743 - val_acc: 0.9723 - val_sparse_top_k_categorical_accuracy: 0.9990\n",
      "Epoch 69/150\n",
      "9253/9253 [==============================] - 7s 724us/step - loss: 0.0260 - acc: 0.9904 - sparse_top_k_categorical_accuracy: 0.9999 - val_loss: 0.1107 - val_acc: 0.9632 - val_sparse_top_k_categorical_accuracy: 0.9980\n",
      "Epoch 70/150\n",
      "9253/9253 [==============================] - 7s 723us/step - loss: 0.0255 - acc: 0.9914 - sparse_top_k_categorical_accuracy: 1.0000 - val_loss: 0.0715 - val_acc: 0.9768 - val_sparse_top_k_categorical_accuracy: 0.9985\n"
     ]
    },
    {
     "name": "stdout",
     "output_type": "stream",
     "text": [
      "Epoch 71/150\n",
      "9253/9253 [==============================] - 7s 723us/step - loss: 0.0238 - acc: 0.9916 - sparse_top_k_categorical_accuracy: 0.9999 - val_loss: 0.0667 - val_acc: 0.9763 - val_sparse_top_k_categorical_accuracy: 0.9990\n",
      "Epoch 72/150\n",
      "9253/9253 [==============================] - 7s 724us/step - loss: 0.0264 - acc: 0.9902 - sparse_top_k_categorical_accuracy: 1.0000 - val_loss: 0.1090 - val_acc: 0.9672 - val_sparse_top_k_categorical_accuracy: 0.9975\n",
      "Epoch 73/150\n",
      "9253/9253 [==============================] - 7s 726us/step - loss: 0.0258 - acc: 0.9904 - sparse_top_k_categorical_accuracy: 1.0000 - val_loss: 0.1236 - val_acc: 0.9592 - val_sparse_top_k_categorical_accuracy: 0.9965\n",
      "Epoch 74/150\n",
      "9253/9253 [==============================] - 7s 725us/step - loss: 0.0255 - acc: 0.9896 - sparse_top_k_categorical_accuracy: 1.0000 - val_loss: 0.0755 - val_acc: 0.9748 - val_sparse_top_k_categorical_accuracy: 0.9985\n",
      "Epoch 75/150\n",
      "9253/9253 [==============================] - 7s 726us/step - loss: 0.0242 - acc: 0.9906 - sparse_top_k_categorical_accuracy: 1.0000 - val_loss: 0.1017 - val_acc: 0.9723 - val_sparse_top_k_categorical_accuracy: 0.9965\n",
      "Epoch 76/150\n",
      "9253/9253 [==============================] - 7s 727us/step - loss: 0.0242 - acc: 0.9911 - sparse_top_k_categorical_accuracy: 1.0000 - val_loss: 0.0667 - val_acc: 0.9768 - val_sparse_top_k_categorical_accuracy: 0.9985\n",
      "Epoch 77/150\n",
      "9253/9253 [==============================] - 7s 726us/step - loss: 0.0221 - acc: 0.9915 - sparse_top_k_categorical_accuracy: 1.0000 - val_loss: 0.0785 - val_acc: 0.9748 - val_sparse_top_k_categorical_accuracy: 0.9985\n",
      "Epoch 78/150\n",
      "9253/9253 [==============================] - 7s 727us/step - loss: 0.0256 - acc: 0.9905 - sparse_top_k_categorical_accuracy: 1.0000 - val_loss: 0.0943 - val_acc: 0.9672 - val_sparse_top_k_categorical_accuracy: 0.9975\n",
      "Epoch 79/150\n",
      "9253/9253 [==============================] - 7s 726us/step - loss: 0.0238 - acc: 0.9915 - sparse_top_k_categorical_accuracy: 1.0000 - val_loss: 0.1563 - val_acc: 0.9551 - val_sparse_top_k_categorical_accuracy: 0.9980\n",
      "Epoch 80/150\n",
      "9253/9253 [==============================] - 7s 726us/step - loss: 0.0270 - acc: 0.9891 - sparse_top_k_categorical_accuracy: 1.0000 - val_loss: 0.0738 - val_acc: 0.9768 - val_sparse_top_k_categorical_accuracy: 0.9985\n",
      "Epoch 81/150\n",
      "9253/9253 [==============================] - 7s 727us/step - loss: 0.0216 - acc: 0.9922 - sparse_top_k_categorical_accuracy: 1.0000 - val_loss: 0.0696 - val_acc: 0.9758 - val_sparse_top_k_categorical_accuracy: 0.9985\n",
      "Epoch 82/150\n",
      "9253/9253 [==============================] - 7s 728us/step - loss: 0.0198 - acc: 0.9927 - sparse_top_k_categorical_accuracy: 1.0000 - val_loss: 0.0718 - val_acc: 0.9748 - val_sparse_top_k_categorical_accuracy: 0.9990\n",
      "Epoch 83/150\n",
      "9253/9253 [==============================] - 7s 726us/step - loss: 0.0226 - acc: 0.9919 - sparse_top_k_categorical_accuracy: 1.0000 - val_loss: 0.0723 - val_acc: 0.9728 - val_sparse_top_k_categorical_accuracy: 0.9990\n",
      "Epoch 84/150\n",
      "9253/9253 [==============================] - 7s 725us/step - loss: 0.0228 - acc: 0.9912 - sparse_top_k_categorical_accuracy: 1.0000 - val_loss: 0.0800 - val_acc: 0.9718 - val_sparse_top_k_categorical_accuracy: 0.9980\n",
      "Epoch 85/150\n",
      "9253/9253 [==============================] - 7s 726us/step - loss: 0.0198 - acc: 0.9917 - sparse_top_k_categorical_accuracy: 1.0000 - val_loss: 0.0658 - val_acc: 0.9763 - val_sparse_top_k_categorical_accuracy: 0.9990\n",
      "Epoch 86/150\n",
      "9253/9253 [==============================] - 7s 726us/step - loss: 0.0224 - acc: 0.9916 - sparse_top_k_categorical_accuracy: 1.0000 - val_loss: 0.0844 - val_acc: 0.9713 - val_sparse_top_k_categorical_accuracy: 0.9975\n",
      "Epoch 87/150\n",
      "9253/9253 [==============================] - 7s 726us/step - loss: 0.0232 - acc: 0.9904 - sparse_top_k_categorical_accuracy: 1.0000 - val_loss: 0.0911 - val_acc: 0.9713 - val_sparse_top_k_categorical_accuracy: 0.9985\n",
      "Epoch 88/150\n",
      "9253/9253 [==============================] - 7s 728us/step - loss: 0.0169 - acc: 0.9933 - sparse_top_k_categorical_accuracy: 1.0000 - val_loss: 0.0684 - val_acc: 0.9758 - val_sparse_top_k_categorical_accuracy: 0.9990\n",
      "Epoch 89/150\n",
      "9253/9253 [==============================] - 7s 724us/step - loss: 0.0213 - acc: 0.9917 - sparse_top_k_categorical_accuracy: 1.0000 - val_loss: 0.0830 - val_acc: 0.9738 - val_sparse_top_k_categorical_accuracy: 0.9985\n",
      "Epoch 90/150\n",
      "9253/9253 [==============================] - 7s 724us/step - loss: 0.0223 - acc: 0.9911 - sparse_top_k_categorical_accuracy: 1.0000 - val_loss: 0.0745 - val_acc: 0.9758 - val_sparse_top_k_categorical_accuracy: 0.9985\n",
      "Epoch 91/150\n",
      "9253/9253 [==============================] - 7s 723us/step - loss: 0.0196 - acc: 0.9919 - sparse_top_k_categorical_accuracy: 1.0000 - val_loss: 0.1229 - val_acc: 0.9647 - val_sparse_top_k_categorical_accuracy: 0.9965\n",
      "Epoch 92/150\n",
      "9253/9253 [==============================] - 7s 723us/step - loss: 0.0226 - acc: 0.9911 - sparse_top_k_categorical_accuracy: 1.0000 - val_loss: 0.1468 - val_acc: 0.9531 - val_sparse_top_k_categorical_accuracy: 0.9970\n",
      "Epoch 93/150\n",
      "9253/9253 [==============================] - 7s 723us/step - loss: 0.0214 - acc: 0.9912 - sparse_top_k_categorical_accuracy: 1.0000 - val_loss: 0.0883 - val_acc: 0.9682 - val_sparse_top_k_categorical_accuracy: 0.9980\n",
      "Epoch 94/150\n",
      "9253/9253 [==============================] - 7s 723us/step - loss: 0.0192 - acc: 0.9923 - sparse_top_k_categorical_accuracy: 1.0000 - val_loss: 0.0810 - val_acc: 0.9733 - val_sparse_top_k_categorical_accuracy: 0.9990\n",
      "Epoch 95/150\n",
      "9253/9253 [==============================] - 7s 725us/step - loss: 0.0195 - acc: 0.9921 - sparse_top_k_categorical_accuracy: 1.0000 - val_loss: 0.0727 - val_acc: 0.9753 - val_sparse_top_k_categorical_accuracy: 0.9985\n",
      "Epoch 96/150\n",
      "9253/9253 [==============================] - 7s 723us/step - loss: 0.0207 - acc: 0.9920 - sparse_top_k_categorical_accuracy: 1.0000 - val_loss: 0.0780 - val_acc: 0.9743 - val_sparse_top_k_categorical_accuracy: 0.9990\n",
      "Epoch 97/150\n",
      "9253/9253 [==============================] - 7s 723us/step - loss: 0.0206 - acc: 0.9911 - sparse_top_k_categorical_accuracy: 1.0000 - val_loss: 0.0806 - val_acc: 0.9733 - val_sparse_top_k_categorical_accuracy: 0.9990\n",
      "Epoch 98/150\n",
      "9253/9253 [==============================] - 7s 725us/step - loss: 0.0187 - acc: 0.9922 - sparse_top_k_categorical_accuracy: 1.0000 - val_loss: 0.0754 - val_acc: 0.9763 - val_sparse_top_k_categorical_accuracy: 0.9985\n",
      "Epoch 99/150\n",
      "9253/9253 [==============================] - 7s 725us/step - loss: 0.0192 - acc: 0.9920 - sparse_top_k_categorical_accuracy: 1.0000 - val_loss: 0.0761 - val_acc: 0.9733 - val_sparse_top_k_categorical_accuracy: 0.9990\n",
      "Epoch 100/150\n",
      "9253/9253 [==============================] - 7s 724us/step - loss: 0.0184 - acc: 0.9929 - sparse_top_k_categorical_accuracy: 1.0000 - val_loss: 0.0667 - val_acc: 0.9803 - val_sparse_top_k_categorical_accuracy: 0.9985\n",
      "Epoch 101/150\n",
      "9253/9253 [==============================] - 7s 722us/step - loss: 0.0176 - acc: 0.9931 - sparse_top_k_categorical_accuracy: 1.0000 - val_loss: 0.0663 - val_acc: 0.9778 - val_sparse_top_k_categorical_accuracy: 0.9990\n",
      "Epoch 102/150\n",
      "9253/9253 [==============================] - 7s 723us/step - loss: 0.0192 - acc: 0.9911 - sparse_top_k_categorical_accuracy: 1.0000 - val_loss: 0.1620 - val_acc: 0.9481 - val_sparse_top_k_categorical_accuracy: 0.9965\n",
      "Epoch 103/150\n",
      "9253/9253 [==============================] - 7s 723us/step - loss: 0.0207 - acc: 0.9915 - sparse_top_k_categorical_accuracy: 1.0000 - val_loss: 0.0750 - val_acc: 0.9728 - val_sparse_top_k_categorical_accuracy: 0.9990\n",
      "Epoch 104/150\n",
      "9253/9253 [==============================] - 7s 724us/step - loss: 0.0205 - acc: 0.9905 - sparse_top_k_categorical_accuracy: 1.0000 - val_loss: 0.0761 - val_acc: 0.9743 - val_sparse_top_k_categorical_accuracy: 0.9990\n",
      "Epoch 105/150\n",
      "9253/9253 [==============================] - 7s 723us/step - loss: 0.0184 - acc: 0.9920 - sparse_top_k_categorical_accuracy: 1.0000 - val_loss: 0.0743 - val_acc: 0.9773 - val_sparse_top_k_categorical_accuracy: 0.9990\n",
      "Epoch 106/150\n"
     ]
    },
    {
     "name": "stdout",
     "output_type": "stream",
     "text": [
      "9253/9253 [==============================] - 7s 723us/step - loss: 0.0191 - acc: 0.9921 - sparse_top_k_categorical_accuracy: 1.0000 - val_loss: 0.0703 - val_acc: 0.9753 - val_sparse_top_k_categorical_accuracy: 0.9990\n",
      "Epoch 107/150\n",
      "9253/9253 [==============================] - 7s 726us/step - loss: 0.0196 - acc: 0.9922 - sparse_top_k_categorical_accuracy: 1.0000 - val_loss: 0.0679 - val_acc: 0.9773 - val_sparse_top_k_categorical_accuracy: 0.9990\n",
      "Epoch 108/150\n",
      "9253/9253 [==============================] - 7s 724us/step - loss: 0.0196 - acc: 0.9912 - sparse_top_k_categorical_accuracy: 1.0000 - val_loss: 0.0856 - val_acc: 0.9708 - val_sparse_top_k_categorical_accuracy: 0.9990\n",
      "Epoch 109/150\n",
      "9253/9253 [==============================] - 7s 723us/step - loss: 0.0185 - acc: 0.9920 - sparse_top_k_categorical_accuracy: 1.0000 - val_loss: 0.0834 - val_acc: 0.9743 - val_sparse_top_k_categorical_accuracy: 0.9990\n",
      "Epoch 110/150\n",
      "9253/9253 [==============================] - 7s 724us/step - loss: 0.0190 - acc: 0.9918 - sparse_top_k_categorical_accuracy: 1.0000 - val_loss: 0.0828 - val_acc: 0.9713 - val_sparse_top_k_categorical_accuracy: 0.9990\n",
      "Epoch 111/150\n",
      "9253/9253 [==============================] - 7s 724us/step - loss: 0.0194 - acc: 0.9916 - sparse_top_k_categorical_accuracy: 1.0000 - val_loss: 0.0716 - val_acc: 0.9763 - val_sparse_top_k_categorical_accuracy: 0.9990\n",
      "Epoch 112/150\n",
      "9253/9253 [==============================] - 7s 725us/step - loss: 0.0161 - acc: 0.9942 - sparse_top_k_categorical_accuracy: 1.0000 - val_loss: 0.0691 - val_acc: 0.9748 - val_sparse_top_k_categorical_accuracy: 0.9990\n",
      "Epoch 113/150\n",
      "9253/9253 [==============================] - 7s 724us/step - loss: 0.0163 - acc: 0.9930 - sparse_top_k_categorical_accuracy: 1.0000 - val_loss: 0.0723 - val_acc: 0.9733 - val_sparse_top_k_categorical_accuracy: 0.9995\n",
      "Epoch 114/150\n",
      "9253/9253 [==============================] - 7s 724us/step - loss: 0.0162 - acc: 0.9929 - sparse_top_k_categorical_accuracy: 1.0000 - val_loss: 0.0900 - val_acc: 0.9702 - val_sparse_top_k_categorical_accuracy: 0.9985\n",
      "Epoch 115/150\n",
      "9253/9253 [==============================] - 7s 724us/step - loss: 0.0181 - acc: 0.9932 - sparse_top_k_categorical_accuracy: 1.0000 - val_loss: 0.0831 - val_acc: 0.9743 - val_sparse_top_k_categorical_accuracy: 0.9990\n",
      "Epoch 116/150\n",
      "9253/9253 [==============================] - 7s 723us/step - loss: 0.0169 - acc: 0.9927 - sparse_top_k_categorical_accuracy: 1.0000 - val_loss: 0.0668 - val_acc: 0.9773 - val_sparse_top_k_categorical_accuracy: 0.9990\n",
      "Epoch 117/150\n",
      "9253/9253 [==============================] - 7s 726us/step - loss: 0.0170 - acc: 0.9934 - sparse_top_k_categorical_accuracy: 1.0000 - val_loss: 0.0808 - val_acc: 0.9723 - val_sparse_top_k_categorical_accuracy: 0.9990\n",
      "Epoch 118/150\n",
      "9253/9253 [==============================] - 7s 724us/step - loss: 0.0171 - acc: 0.9925 - sparse_top_k_categorical_accuracy: 1.0000 - val_loss: 0.0670 - val_acc: 0.9788 - val_sparse_top_k_categorical_accuracy: 0.9985\n",
      "Epoch 119/150\n",
      "9253/9253 [==============================] - 7s 724us/step - loss: 0.0175 - acc: 0.9925 - sparse_top_k_categorical_accuracy: 1.0000 - val_loss: 0.0781 - val_acc: 0.9733 - val_sparse_top_k_categorical_accuracy: 0.9985\n",
      "Epoch 120/150\n",
      "9253/9253 [==============================] - 7s 724us/step - loss: 0.0188 - acc: 0.9916 - sparse_top_k_categorical_accuracy: 1.0000 - val_loss: 0.0658 - val_acc: 0.9783 - val_sparse_top_k_categorical_accuracy: 0.9990\n",
      "Epoch 121/150\n",
      "9253/9253 [==============================] - 7s 723us/step - loss: 0.0148 - acc: 0.9927 - sparse_top_k_categorical_accuracy: 1.0000 - val_loss: 0.0682 - val_acc: 0.9768 - val_sparse_top_k_categorical_accuracy: 0.9990\n",
      "Epoch 122/150\n",
      "9253/9253 [==============================] - 7s 724us/step - loss: 0.0165 - acc: 0.9932 - sparse_top_k_categorical_accuracy: 1.0000 - val_loss: 0.0748 - val_acc: 0.9733 - val_sparse_top_k_categorical_accuracy: 0.9980\n",
      "Epoch 123/150\n",
      "9253/9253 [==============================] - 7s 724us/step - loss: 0.0173 - acc: 0.9936 - sparse_top_k_categorical_accuracy: 1.0000 - val_loss: 0.0755 - val_acc: 0.9743 - val_sparse_top_k_categorical_accuracy: 0.9990\n",
      "Epoch 124/150\n",
      "9253/9253 [==============================] - 7s 724us/step - loss: 0.0160 - acc: 0.9933 - sparse_top_k_categorical_accuracy: 1.0000 - val_loss: 0.0758 - val_acc: 0.9743 - val_sparse_top_k_categorical_accuracy: 0.9985\n",
      "Epoch 125/150\n",
      "9253/9253 [==============================] - 7s 723us/step - loss: 0.0147 - acc: 0.9938 - sparse_top_k_categorical_accuracy: 1.0000 - val_loss: 0.0668 - val_acc: 0.9763 - val_sparse_top_k_categorical_accuracy: 0.9990\n",
      "Epoch 126/150\n",
      "9253/9253 [==============================] - 7s 723us/step - loss: 0.0170 - acc: 0.9929 - sparse_top_k_categorical_accuracy: 1.0000 - val_loss: 0.0654 - val_acc: 0.9738 - val_sparse_top_k_categorical_accuracy: 0.9990\n",
      "Epoch 127/150\n",
      "9253/9253 [==============================] - 7s 724us/step - loss: 0.0147 - acc: 0.9939 - sparse_top_k_categorical_accuracy: 1.0000 - val_loss: 0.0714 - val_acc: 0.9768 - val_sparse_top_k_categorical_accuracy: 0.9990\n",
      "Epoch 128/150\n",
      "9253/9253 [==============================] - 7s 724us/step - loss: 0.0150 - acc: 0.9935 - sparse_top_k_categorical_accuracy: 1.0000 - val_loss: 0.0725 - val_acc: 0.9748 - val_sparse_top_k_categorical_accuracy: 0.9990\n",
      "Epoch 129/150\n",
      "9253/9253 [==============================] - 7s 723us/step - loss: 0.0151 - acc: 0.9932 - sparse_top_k_categorical_accuracy: 1.0000 - val_loss: 0.0742 - val_acc: 0.9758 - val_sparse_top_k_categorical_accuracy: 0.9990\n",
      "Epoch 130/150\n",
      "9253/9253 [==============================] - 7s 723us/step - loss: 0.0158 - acc: 0.9924 - sparse_top_k_categorical_accuracy: 1.0000 - val_loss: 0.3517 - val_acc: 0.9032 - val_sparse_top_k_categorical_accuracy: 0.9909\n",
      "Epoch 131/150\n",
      "9253/9253 [==============================] - 7s 729us/step - loss: 0.0168 - acc: 0.9924 - sparse_top_k_categorical_accuracy: 1.0000 - val_loss: 0.0681 - val_acc: 0.9758 - val_sparse_top_k_categorical_accuracy: 0.9990\n",
      "Epoch 132/150\n",
      "9253/9253 [==============================] - 7s 724us/step - loss: 0.0161 - acc: 0.9927 - sparse_top_k_categorical_accuracy: 1.0000 - val_loss: 0.0759 - val_acc: 0.9733 - val_sparse_top_k_categorical_accuracy: 0.9990\n",
      "Epoch 133/150\n",
      "9253/9253 [==============================] - 7s 725us/step - loss: 0.0176 - acc: 0.9932 - sparse_top_k_categorical_accuracy: 1.0000 - val_loss: 0.0796 - val_acc: 0.9748 - val_sparse_top_k_categorical_accuracy: 0.9985\n",
      "Epoch 134/150\n",
      "9253/9253 [==============================] - 7s 724us/step - loss: 0.0164 - acc: 0.9923 - sparse_top_k_categorical_accuracy: 1.0000 - val_loss: 0.0744 - val_acc: 0.9768 - val_sparse_top_k_categorical_accuracy: 0.9985\n",
      "Epoch 135/150\n",
      "9253/9253 [==============================] - 7s 727us/step - loss: 0.0156 - acc: 0.9929 - sparse_top_k_categorical_accuracy: 1.0000 - val_loss: 0.0762 - val_acc: 0.9748 - val_sparse_top_k_categorical_accuracy: 0.9985\n",
      "Epoch 136/150\n",
      "9253/9253 [==============================] - 7s 724us/step - loss: 0.0154 - acc: 0.9921 - sparse_top_k_categorical_accuracy: 1.0000 - val_loss: 0.0682 - val_acc: 0.9783 - val_sparse_top_k_categorical_accuracy: 0.9985\n",
      "Epoch 137/150\n",
      "9253/9253 [==============================] - 7s 724us/step - loss: 0.0166 - acc: 0.9920 - sparse_top_k_categorical_accuracy: 1.0000 - val_loss: 0.0751 - val_acc: 0.9718 - val_sparse_top_k_categorical_accuracy: 0.9990\n",
      "Epoch 138/150\n",
      "9253/9253 [==============================] - 7s 726us/step - loss: 0.0188 - acc: 0.9917 - sparse_top_k_categorical_accuracy: 1.0000 - val_loss: 0.0724 - val_acc: 0.9748 - val_sparse_top_k_categorical_accuracy: 0.9985\n",
      "Epoch 139/150\n",
      "9253/9253 [==============================] - 7s 725us/step - loss: 0.0163 - acc: 0.9929 - sparse_top_k_categorical_accuracy: 1.0000 - val_loss: 0.0705 - val_acc: 0.9753 - val_sparse_top_k_categorical_accuracy: 0.9990\n",
      "Epoch 140/150\n",
      "9253/9253 [==============================] - 7s 725us/step - loss: 0.0146 - acc: 0.9935 - sparse_top_k_categorical_accuracy: 1.0000 - val_loss: 0.0670 - val_acc: 0.9778 - val_sparse_top_k_categorical_accuracy: 0.9990\n",
      "Epoch 141/150\n"
     ]
    },
    {
     "name": "stdout",
     "output_type": "stream",
     "text": [
      "9253/9253 [==============================] - 7s 724us/step - loss: 0.0141 - acc: 0.9924 - sparse_top_k_categorical_accuracy: 1.0000 - val_loss: 0.0686 - val_acc: 0.9768 - val_sparse_top_k_categorical_accuracy: 0.9990\n",
      "Epoch 142/150\n",
      "9253/9253 [==============================] - 7s 725us/step - loss: 0.0169 - acc: 0.9921 - sparse_top_k_categorical_accuracy: 1.0000 - val_loss: 0.0675 - val_acc: 0.9773 - val_sparse_top_k_categorical_accuracy: 0.9985\n",
      "Epoch 143/150\n",
      "9253/9253 [==============================] - 7s 724us/step - loss: 0.0159 - acc: 0.9924 - sparse_top_k_categorical_accuracy: 1.0000 - val_loss: 0.0873 - val_acc: 0.9733 - val_sparse_top_k_categorical_accuracy: 0.9985\n",
      "Epoch 144/150\n",
      "9253/9253 [==============================] - 7s 723us/step - loss: 0.0144 - acc: 0.9931 - sparse_top_k_categorical_accuracy: 1.0000 - val_loss: 0.0702 - val_acc: 0.9783 - val_sparse_top_k_categorical_accuracy: 0.9990\n",
      "Epoch 145/150\n",
      "9253/9253 [==============================] - 7s 724us/step - loss: 0.0159 - acc: 0.9936 - sparse_top_k_categorical_accuracy: 1.0000 - val_loss: 0.0808 - val_acc: 0.9753 - val_sparse_top_k_categorical_accuracy: 0.9985\n",
      "Epoch 146/150\n",
      "9253/9253 [==============================] - 7s 725us/step - loss: 0.0153 - acc: 0.9929 - sparse_top_k_categorical_accuracy: 1.0000 - val_loss: 0.0635 - val_acc: 0.9773 - val_sparse_top_k_categorical_accuracy: 0.9990\n",
      "Epoch 147/150\n",
      "9253/9253 [==============================] - 7s 724us/step - loss: 0.0148 - acc: 0.9931 - sparse_top_k_categorical_accuracy: 1.0000 - val_loss: 0.0655 - val_acc: 0.9793 - val_sparse_top_k_categorical_accuracy: 0.9985\n",
      "Epoch 148/150\n",
      "9253/9253 [==============================] - 7s 726us/step - loss: 0.0157 - acc: 0.9922 - sparse_top_k_categorical_accuracy: 1.0000 - val_loss: 0.0718 - val_acc: 0.9753 - val_sparse_top_k_categorical_accuracy: 0.9990\n",
      "Epoch 149/150\n",
      "9253/9253 [==============================] - 7s 723us/step - loss: 0.0152 - acc: 0.9922 - sparse_top_k_categorical_accuracy: 1.0000 - val_loss: 0.0720 - val_acc: 0.9753 - val_sparse_top_k_categorical_accuracy: 0.9990\n",
      "Epoch 150/150\n",
      "9253/9253 [==============================] - 7s 726us/step - loss: 0.0192 - acc: 0.9916 - sparse_top_k_categorical_accuracy: 1.0000 - val_loss: 0.0686 - val_acc: 0.9748 - val_sparse_top_k_categorical_accuracy: 0.9990\n"
     ]
    }
   ],
   "source": [
    "#model 1\n",
    "model.compile(loss='sparse_categorical_crossentropy', optimizer='SGD', metrics=['accuracy','sparse_top_k_categorical_accuracy'])\n",
    "history=model.fit(X_train,y_train, batch_size=16, epochs=150, validation_data=(X_val, y_val) )"
   ]
  },
  {
   "cell_type": "code",
   "execution_count": 12,
   "metadata": {},
   "outputs": [
    {
     "name": "stdout",
     "output_type": "stream",
     "text": [
      "WARNING:tensorflow:From C:\\Users\\Hp\\Anaconda3\\envs\\Titanium\\lib\\site-packages\\tensorflow\\python\\ops\\math_ops.py:3066: to_int32 (from tensorflow.python.ops.math_ops) is deprecated and will be removed in a future version.\n",
      "Instructions for updating:\n",
      "Use tf.cast instead.\n",
      "Train on 9253 samples, validate on 1983 samples\n",
      "Epoch 1/150\n",
      "9253/9253 [==============================] - 10s 1ms/step - loss: 4.6796 - acc: 0.0327 - sparse_top_k_categorical_accuracy: 0.1142 - val_loss: 4.7234 - val_acc: 0.0323 - val_sparse_top_k_categorical_accuracy: 0.0978\n",
      "Epoch 2/150\n",
      "9253/9253 [==============================] - 5s 558us/step - loss: 3.9945 - acc: 0.1138 - sparse_top_k_categorical_accuracy: 0.3110 - val_loss: 3.6434 - val_acc: 0.1427 - val_sparse_top_k_categorical_accuracy: 0.4075\n",
      "Epoch 3/150\n",
      "9253/9253 [==============================] - 5s 559us/step - loss: 3.1674 - acc: 0.2319 - sparse_top_k_categorical_accuracy: 0.5376 - val_loss: 2.4745 - val_acc: 0.4165 - val_sparse_top_k_categorical_accuracy: 0.7569\n",
      "Epoch 4/150\n",
      "9253/9253 [==============================] - 5s 559us/step - loss: 2.4309 - acc: 0.3756 - sparse_top_k_categorical_accuracy: 0.7038 - val_loss: 1.7648 - val_acc: 0.6082 - val_sparse_top_k_categorical_accuracy: 0.8719\n",
      "Epoch 5/150\n",
      "9253/9253 [==============================] - 5s 561us/step - loss: 1.8951 - acc: 0.4895 - sparse_top_k_categorical_accuracy: 0.8101 - val_loss: 1.4358 - val_acc: 0.6566 - val_sparse_top_k_categorical_accuracy: 0.9012\n",
      "Epoch 6/150\n",
      "9253/9253 [==============================] - 5s 561us/step - loss: 1.4981 - acc: 0.5900 - sparse_top_k_categorical_accuracy: 0.8808 - val_loss: 1.3905 - val_acc: 0.5986 - val_sparse_top_k_categorical_accuracy: 0.8971\n",
      "Epoch 7/150\n",
      "9253/9253 [==============================] - 6s 610us/step - loss: 1.1806 - acc: 0.6686 - sparse_top_k_categorical_accuracy: 0.9218 - val_loss: 0.8946 - val_acc: 0.7559 - val_sparse_top_k_categorical_accuracy: 0.9435\n",
      "Epoch 8/150\n",
      "9253/9253 [==============================] - 5s 590us/step - loss: 0.9297 - acc: 0.7332 - sparse_top_k_categorical_accuracy: 0.9522 - val_loss: 0.6652 - val_acc: 0.8371 - val_sparse_top_k_categorical_accuracy: 0.9713\n",
      "Epoch 9/150\n",
      "9253/9253 [==============================] - 6s 601us/step - loss: 0.7454 - acc: 0.7877 - sparse_top_k_categorical_accuracy: 0.9664 - val_loss: 0.4469 - val_acc: 0.8886 - val_sparse_top_k_categorical_accuracy: 0.9839\n",
      "Epoch 10/150\n",
      "9253/9253 [==============================] - 5s 591us/step - loss: 0.6007 - acc: 0.8276 - sparse_top_k_categorical_accuracy: 0.9778 - val_loss: 0.4043 - val_acc: 0.9037 - val_sparse_top_k_categorical_accuracy: 0.9884\n",
      "Epoch 11/150\n",
      "9253/9253 [==============================] - 5s 582us/step - loss: 0.4994 - acc: 0.8555 - sparse_top_k_categorical_accuracy: 0.9839 - val_loss: 0.3837 - val_acc: 0.9027 - val_sparse_top_k_categorical_accuracy: 0.9859\n",
      "Epoch 12/150\n",
      "9253/9253 [==============================] - 5s 564us/step - loss: 0.4086 - acc: 0.8833 - sparse_top_k_categorical_accuracy: 0.9906 - val_loss: 0.3426 - val_acc: 0.9133 - val_sparse_top_k_categorical_accuracy: 0.9914\n",
      "Epoch 13/150\n",
      "9253/9253 [==============================] - 5s 561us/step - loss: 0.3281 - acc: 0.9041 - sparse_top_k_categorical_accuracy: 0.9915 - val_loss: 0.3229 - val_acc: 0.9107 - val_sparse_top_k_categorical_accuracy: 0.9879\n",
      "Epoch 14/150\n",
      "9253/9253 [==============================] - 5s 560us/step - loss: 0.2850 - acc: 0.9192 - sparse_top_k_categorical_accuracy: 0.9946 - val_loss: 0.2695 - val_acc: 0.9274 - val_sparse_top_k_categorical_accuracy: 0.9924\n",
      "Epoch 15/150\n",
      "9253/9253 [==============================] - 5s 550us/step - loss: 0.2324 - acc: 0.9338 - sparse_top_k_categorical_accuracy: 0.9972 - val_loss: 0.2151 - val_acc: 0.9420 - val_sparse_top_k_categorical_accuracy: 0.9950\n",
      "Epoch 16/150\n",
      "9253/9253 [==============================] - 5s 551us/step - loss: 0.2042 - acc: 0.9398 - sparse_top_k_categorical_accuracy: 0.9983 - val_loss: 0.1879 - val_acc: 0.9496 - val_sparse_top_k_categorical_accuracy: 0.9965\n",
      "Epoch 17/150\n",
      "9253/9253 [==============================] - 5s 551us/step - loss: 0.1801 - acc: 0.9459 - sparse_top_k_categorical_accuracy: 0.9981 - val_loss: 0.2331 - val_acc: 0.9269 - val_sparse_top_k_categorical_accuracy: 0.9960\n",
      "Epoch 18/150\n",
      "9253/9253 [==============================] - 5s 562us/step - loss: 0.1521 - acc: 0.9546 - sparse_top_k_categorical_accuracy: 0.9986 - val_loss: 0.2209 - val_acc: 0.9405 - val_sparse_top_k_categorical_accuracy: 0.9929\n",
      "Epoch 19/150\n",
      "9253/9253 [==============================] - 5s 556us/step - loss: 0.1393 - acc: 0.9609 - sparse_top_k_categorical_accuracy: 0.9991 - val_loss: 0.1620 - val_acc: 0.9511 - val_sparse_top_k_categorical_accuracy: 0.9970\n",
      "Epoch 20/150\n",
      "9253/9253 [==============================] - 5s 559us/step - loss: 0.1222 - acc: 0.9635 - sparse_top_k_categorical_accuracy: 0.9989 - val_loss: 0.1227 - val_acc: 0.9617 - val_sparse_top_k_categorical_accuracy: 0.9975\n",
      "Epoch 21/150\n",
      "9253/9253 [==============================] - 5s 559us/step - loss: 0.1116 - acc: 0.9662 - sparse_top_k_categorical_accuracy: 0.9995 - val_loss: 0.1685 - val_acc: 0.9481 - val_sparse_top_k_categorical_accuracy: 0.9955\n",
      "Epoch 22/150\n",
      "9253/9253 [==============================] - 5s 560us/step - loss: 0.1023 - acc: 0.9678 - sparse_top_k_categorical_accuracy: 0.9995 - val_loss: 0.1456 - val_acc: 0.9586 - val_sparse_top_k_categorical_accuracy: 0.9975\n",
      "Epoch 23/150\n",
      "9253/9253 [==============================] - 5s 561us/step - loss: 0.0927 - acc: 0.9737 - sparse_top_k_categorical_accuracy: 0.9997 - val_loss: 0.1377 - val_acc: 0.9607 - val_sparse_top_k_categorical_accuracy: 0.9965\n",
      "Epoch 24/150\n",
      "9253/9253 [==============================] - 5s 555us/step - loss: 0.0891 - acc: 0.9733 - sparse_top_k_categorical_accuracy: 0.9995 - val_loss: 0.1455 - val_acc: 0.9632 - val_sparse_top_k_categorical_accuracy: 0.9955\n",
      "Epoch 25/150\n",
      "9253/9253 [==============================] - 5s 551us/step - loss: 0.0790 - acc: 0.9778 - sparse_top_k_categorical_accuracy: 0.9998 - val_loss: 0.1145 - val_acc: 0.9657 - val_sparse_top_k_categorical_accuracy: 0.9980\n",
      "Epoch 26/150\n",
      "9253/9253 [==============================] - 5s 562us/step - loss: 0.0732 - acc: 0.9762 - sparse_top_k_categorical_accuracy: 0.9997 - val_loss: 0.1355 - val_acc: 0.9576 - val_sparse_top_k_categorical_accuracy: 0.9975\n",
      "Epoch 27/150\n",
      "9253/9253 [==============================] - 5s 561us/step - loss: 0.0680 - acc: 0.9807 - sparse_top_k_categorical_accuracy: 0.9999 - val_loss: 0.1114 - val_acc: 0.9682 - val_sparse_top_k_categorical_accuracy: 0.9990\n",
      "Epoch 28/150\n",
      "9253/9253 [==============================] - 5s 558us/step - loss: 0.0643 - acc: 0.9800 - sparse_top_k_categorical_accuracy: 1.0000 - val_loss: 0.1112 - val_acc: 0.9622 - val_sparse_top_k_categorical_accuracy: 0.9975\n",
      "Epoch 29/150\n",
      "9253/9253 [==============================] - 5s 562us/step - loss: 0.0637 - acc: 0.9777 - sparse_top_k_categorical_accuracy: 0.9999 - val_loss: 0.1042 - val_acc: 0.9672 - val_sparse_top_k_categorical_accuracy: 0.9985\n",
      "Epoch 30/150\n",
      "9253/9253 [==============================] - 5s 561us/step - loss: 0.0590 - acc: 0.9821 - sparse_top_k_categorical_accuracy: 0.9998 - val_loss: 0.1210 - val_acc: 0.9592 - val_sparse_top_k_categorical_accuracy: 0.9985\n",
      "Epoch 31/150\n",
      "9253/9253 [==============================] - 5s 561us/step - loss: 0.0562 - acc: 0.9815 - sparse_top_k_categorical_accuracy: 0.9997 - val_loss: 0.1248 - val_acc: 0.9617 - val_sparse_top_k_categorical_accuracy: 0.9985\n",
      "Epoch 32/150\n",
      "9253/9253 [==============================] - 5s 553us/step - loss: 0.0514 - acc: 0.9835 - sparse_top_k_categorical_accuracy: 0.9999 - val_loss: 0.1095 - val_acc: 0.9652 - val_sparse_top_k_categorical_accuracy: 0.9970\n",
      "Epoch 33/150\n",
      "9253/9253 [==============================] - 5s 553us/step - loss: 0.0476 - acc: 0.9843 - sparse_top_k_categorical_accuracy: 1.0000 - val_loss: 0.1502 - val_acc: 0.9571 - val_sparse_top_k_categorical_accuracy: 0.9955\n",
      "Epoch 34/150\n",
      "9253/9253 [==============================] - 5s 552us/step - loss: 0.0451 - acc: 0.9851 - sparse_top_k_categorical_accuracy: 1.0000 - val_loss: 0.1182 - val_acc: 0.9682 - val_sparse_top_k_categorical_accuracy: 0.9980\n",
      "Epoch 35/150\n",
      "9253/9253 [==============================] - 5s 556us/step - loss: 0.0437 - acc: 0.9856 - sparse_top_k_categorical_accuracy: 1.0000 - val_loss: 0.1119 - val_acc: 0.9677 - val_sparse_top_k_categorical_accuracy: 0.9985\n",
      "Epoch 36/150\n",
      "9253/9253 [==============================] - 5s 559us/step - loss: 0.0434 - acc: 0.9839 - sparse_top_k_categorical_accuracy: 0.9999 - val_loss: 0.1113 - val_acc: 0.9687 - val_sparse_top_k_categorical_accuracy: 0.9985\n",
      "Epoch 37/150\n",
      "9253/9253 [==============================] - 5s 555us/step - loss: 0.0474 - acc: 0.9839 - sparse_top_k_categorical_accuracy: 0.9999 - val_loss: 0.1030 - val_acc: 0.9708 - val_sparse_top_k_categorical_accuracy: 0.9970\n",
      "Epoch 38/150\n",
      "9253/9253 [==============================] - 5s 553us/step - loss: 0.0450 - acc: 0.9831 - sparse_top_k_categorical_accuracy: 1.0000 - val_loss: 0.1204 - val_acc: 0.9632 - val_sparse_top_k_categorical_accuracy: 0.9975\n",
      "Epoch 39/150\n",
      "9253/9253 [==============================] - 5s 554us/step - loss: 0.0362 - acc: 0.9879 - sparse_top_k_categorical_accuracy: 1.0000 - val_loss: 0.1417 - val_acc: 0.9597 - val_sparse_top_k_categorical_accuracy: 0.9955\n",
      "Epoch 40/150\n",
      "9253/9253 [==============================] - 5s 555us/step - loss: 0.0377 - acc: 0.9875 - sparse_top_k_categorical_accuracy: 1.0000 - val_loss: 0.1282 - val_acc: 0.9617 - val_sparse_top_k_categorical_accuracy: 0.9965\n",
      "Epoch 41/150\n",
      "9253/9253 [==============================] - 5s 553us/step - loss: 0.0374 - acc: 0.9883 - sparse_top_k_categorical_accuracy: 0.9999 - val_loss: 0.1672 - val_acc: 0.9516 - val_sparse_top_k_categorical_accuracy: 0.9945\n",
      "Epoch 42/150\n",
      "9253/9253 [==============================] - 5s 553us/step - loss: 0.0389 - acc: 0.9868 - sparse_top_k_categorical_accuracy: 0.9998 - val_loss: 0.1013 - val_acc: 0.9682 - val_sparse_top_k_categorical_accuracy: 0.9980\n",
      "Epoch 43/150\n",
      "9253/9253 [==============================] - 5s 554us/step - loss: 0.0338 - acc: 0.9876 - sparse_top_k_categorical_accuracy: 1.0000 - val_loss: 0.0986 - val_acc: 0.9692 - val_sparse_top_k_categorical_accuracy: 0.9985\n",
      "Epoch 44/150\n",
      "9253/9253 [==============================] - 5s 555us/step - loss: 0.0351 - acc: 0.9864 - sparse_top_k_categorical_accuracy: 0.9999 - val_loss: 0.1853 - val_acc: 0.9481 - val_sparse_top_k_categorical_accuracy: 0.9934\n",
      "Epoch 45/150\n",
      "9253/9253 [==============================] - 5s 553us/step - loss: 0.0339 - acc: 0.9877 - sparse_top_k_categorical_accuracy: 1.0000 - val_loss: 0.1065 - val_acc: 0.9682 - val_sparse_top_k_categorical_accuracy: 0.9965\n",
      "Epoch 46/150\n",
      "9253/9253 [==============================] - 5s 558us/step - loss: 0.0349 - acc: 0.9883 - sparse_top_k_categorical_accuracy: 1.0000 - val_loss: 0.1079 - val_acc: 0.9687 - val_sparse_top_k_categorical_accuracy: 0.9975\n",
      "Epoch 47/150\n",
      "9253/9253 [==============================] - 5s 554us/step - loss: 0.0328 - acc: 0.9895 - sparse_top_k_categorical_accuracy: 1.0000 - val_loss: 0.1103 - val_acc: 0.9652 - val_sparse_top_k_categorical_accuracy: 0.9975\n",
      "Epoch 48/150\n",
      "9253/9253 [==============================] - 5s 556us/step - loss: 0.0334 - acc: 0.9875 - sparse_top_k_categorical_accuracy: 1.0000 - val_loss: 0.0926 - val_acc: 0.9723 - val_sparse_top_k_categorical_accuracy: 0.9980\n",
      "Epoch 49/150\n",
      "9253/9253 [==============================] - 5s 556us/step - loss: 0.0321 - acc: 0.9884 - sparse_top_k_categorical_accuracy: 0.9999 - val_loss: 0.0953 - val_acc: 0.9697 - val_sparse_top_k_categorical_accuracy: 0.9990\n",
      "Epoch 50/150\n",
      "9253/9253 [==============================] - 5s 562us/step - loss: 0.0322 - acc: 0.9892 - sparse_top_k_categorical_accuracy: 0.9999 - val_loss: 0.1027 - val_acc: 0.9728 - val_sparse_top_k_categorical_accuracy: 0.9985\n",
      "Epoch 51/150\n",
      "9253/9253 [==============================] - 5s 556us/step - loss: 0.0296 - acc: 0.9889 - sparse_top_k_categorical_accuracy: 0.9999 - val_loss: 0.1173 - val_acc: 0.9637 - val_sparse_top_k_categorical_accuracy: 0.9975\n",
      "Epoch 52/150\n",
      "9253/9253 [==============================] - 5s 556us/step - loss: 0.0312 - acc: 0.9893 - sparse_top_k_categorical_accuracy: 1.0000 - val_loss: 0.1670 - val_acc: 0.9521 - val_sparse_top_k_categorical_accuracy: 0.9955\n",
      "Epoch 53/150\n",
      "9253/9253 [==============================] - 5s 556us/step - loss: 0.0280 - acc: 0.9892 - sparse_top_k_categorical_accuracy: 1.0000 - val_loss: 0.1268 - val_acc: 0.9607 - val_sparse_top_k_categorical_accuracy: 0.9980\n",
      "Epoch 54/150\n",
      "9253/9253 [==============================] - 5s 557us/step - loss: 0.0279 - acc: 0.9905 - sparse_top_k_categorical_accuracy: 1.0000 - val_loss: 0.1253 - val_acc: 0.9667 - val_sparse_top_k_categorical_accuracy: 0.9980\n",
      "Epoch 55/150\n",
      "9253/9253 [==============================] - 5s 558us/step - loss: 0.0295 - acc: 0.9897 - sparse_top_k_categorical_accuracy: 1.0000 - val_loss: 0.0925 - val_acc: 0.9758 - val_sparse_top_k_categorical_accuracy: 0.9970\n",
      "Epoch 56/150\n",
      "9253/9253 [==============================] - 5s 559us/step - loss: 0.0310 - acc: 0.9892 - sparse_top_k_categorical_accuracy: 1.0000 - val_loss: 0.2008 - val_acc: 0.9455 - val_sparse_top_k_categorical_accuracy: 0.9924\n",
      "Epoch 57/150\n",
      "9253/9253 [==============================] - 5s 563us/step - loss: 0.0298 - acc: 0.9896 - sparse_top_k_categorical_accuracy: 0.9999 - val_loss: 0.1837 - val_acc: 0.9516 - val_sparse_top_k_categorical_accuracy: 0.9934\n",
      "Epoch 58/150\n",
      "9253/9253 [==============================] - 5s 561us/step - loss: 0.0287 - acc: 0.9889 - sparse_top_k_categorical_accuracy: 1.0000 - val_loss: 0.0976 - val_acc: 0.9713 - val_sparse_top_k_categorical_accuracy: 0.9985\n",
      "Epoch 59/150\n",
      "9253/9253 [==============================] - 5s 557us/step - loss: 0.0273 - acc: 0.9893 - sparse_top_k_categorical_accuracy: 1.0000 - val_loss: 0.1073 - val_acc: 0.9713 - val_sparse_top_k_categorical_accuracy: 0.9985\n",
      "Epoch 60/150\n",
      "9253/9253 [==============================] - 5s 559us/step - loss: 0.0261 - acc: 0.9902 - sparse_top_k_categorical_accuracy: 1.0000 - val_loss: 0.1242 - val_acc: 0.9692 - val_sparse_top_k_categorical_accuracy: 0.9980\n",
      "Epoch 61/150\n",
      "9253/9253 [==============================] - 5s 556us/step - loss: 0.0255 - acc: 0.9899 - sparse_top_k_categorical_accuracy: 1.0000 - val_loss: 0.1192 - val_acc: 0.9662 - val_sparse_top_k_categorical_accuracy: 0.9980\n",
      "Epoch 62/150\n",
      "9253/9253 [==============================] - 5s 556us/step - loss: 0.0243 - acc: 0.9899 - sparse_top_k_categorical_accuracy: 1.0000 - val_loss: 0.0979 - val_acc: 0.9733 - val_sparse_top_k_categorical_accuracy: 0.9985\n",
      "Epoch 63/150\n",
      "9253/9253 [==============================] - 5s 556us/step - loss: 0.0297 - acc: 0.9891 - sparse_top_k_categorical_accuracy: 1.0000 - val_loss: 0.1480 - val_acc: 0.9612 - val_sparse_top_k_categorical_accuracy: 0.9955\n",
      "Epoch 64/150\n",
      "9253/9253 [==============================] - 5s 557us/step - loss: 0.0265 - acc: 0.9902 - sparse_top_k_categorical_accuracy: 1.0000 - val_loss: 0.1475 - val_acc: 0.9622 - val_sparse_top_k_categorical_accuracy: 0.9975\n",
      "Epoch 65/150\n",
      "9253/9253 [==============================] - 5s 560us/step - loss: 0.0256 - acc: 0.9902 - sparse_top_k_categorical_accuracy: 1.0000 - val_loss: 0.1028 - val_acc: 0.9687 - val_sparse_top_k_categorical_accuracy: 0.9985\n",
      "Epoch 66/150\n",
      "9253/9253 [==============================] - 5s 560us/step - loss: 0.0259 - acc: 0.9893 - sparse_top_k_categorical_accuracy: 0.9999 - val_loss: 0.1445 - val_acc: 0.9607 - val_sparse_top_k_categorical_accuracy: 0.9980\n",
      "Epoch 67/150\n",
      "9253/9253 [==============================] - 5s 563us/step - loss: 0.0241 - acc: 0.9901 - sparse_top_k_categorical_accuracy: 1.0000 - val_loss: 0.1227 - val_acc: 0.9607 - val_sparse_top_k_categorical_accuracy: 0.9970\n",
      "Epoch 68/150\n",
      "9253/9253 [==============================] - 5s 560us/step - loss: 0.0233 - acc: 0.9908 - sparse_top_k_categorical_accuracy: 1.0000 - val_loss: 0.0966 - val_acc: 0.9728 - val_sparse_top_k_categorical_accuracy: 0.9985\n",
      "Epoch 69/150\n",
      "9253/9253 [==============================] - 5s 564us/step - loss: 0.0231 - acc: 0.9908 - sparse_top_k_categorical_accuracy: 1.0000 - val_loss: 0.1206 - val_acc: 0.9708 - val_sparse_top_k_categorical_accuracy: 0.9985\n",
      "Epoch 70/150\n",
      "9253/9253 [==============================] - 5s 566us/step - loss: 0.0271 - acc: 0.9878 - sparse_top_k_categorical_accuracy: 1.0000 - val_loss: 0.1248 - val_acc: 0.9682 - val_sparse_top_k_categorical_accuracy: 0.9975\n"
     ]
    },
    {
     "name": "stdout",
     "output_type": "stream",
     "text": [
      "Epoch 71/150\n",
      "9253/9253 [==============================] - 5s 557us/step - loss: 0.0224 - acc: 0.9904 - sparse_top_k_categorical_accuracy: 1.0000 - val_loss: 0.1203 - val_acc: 0.9733 - val_sparse_top_k_categorical_accuracy: 0.9980\n",
      "Epoch 72/150\n",
      "9253/9253 [==============================] - 5s 556us/step - loss: 0.0245 - acc: 0.9909 - sparse_top_k_categorical_accuracy: 1.0000 - val_loss: 0.1263 - val_acc: 0.9672 - val_sparse_top_k_categorical_accuracy: 0.9980\n",
      "Epoch 73/150\n",
      "9253/9253 [==============================] - 5s 555us/step - loss: 0.0227 - acc: 0.9905 - sparse_top_k_categorical_accuracy: 1.0000 - val_loss: 0.1090 - val_acc: 0.9702 - val_sparse_top_k_categorical_accuracy: 0.9975\n",
      "Epoch 74/150\n",
      "9253/9253 [==============================] - 5s 556us/step - loss: 0.0226 - acc: 0.9904 - sparse_top_k_categorical_accuracy: 1.0000 - val_loss: 0.1475 - val_acc: 0.9597 - val_sparse_top_k_categorical_accuracy: 0.9970\n",
      "Epoch 75/150\n",
      "9253/9253 [==============================] - 5s 556us/step - loss: 0.0247 - acc: 0.9906 - sparse_top_k_categorical_accuracy: 1.0000 - val_loss: 0.1371 - val_acc: 0.9647 - val_sparse_top_k_categorical_accuracy: 0.9975\n",
      "Epoch 76/150\n",
      "9253/9253 [==============================] - 5s 556us/step - loss: 0.0235 - acc: 0.9906 - sparse_top_k_categorical_accuracy: 1.0000 - val_loss: 0.1219 - val_acc: 0.9682 - val_sparse_top_k_categorical_accuracy: 0.9980\n",
      "Epoch 77/150\n",
      "9253/9253 [==============================] - 5s 557us/step - loss: 0.0227 - acc: 0.9906 - sparse_top_k_categorical_accuracy: 1.0000 - val_loss: 0.1593 - val_acc: 0.9586 - val_sparse_top_k_categorical_accuracy: 0.9980\n",
      "Epoch 78/150\n",
      "9253/9253 [==============================] - 5s 556us/step - loss: 0.0272 - acc: 0.9907 - sparse_top_k_categorical_accuracy: 1.0000 - val_loss: 0.1008 - val_acc: 0.9753 - val_sparse_top_k_categorical_accuracy: 0.9980\n",
      "Epoch 79/150\n",
      "9253/9253 [==============================] - 5s 556us/step - loss: 0.0206 - acc: 0.9921 - sparse_top_k_categorical_accuracy: 1.0000 - val_loss: 0.1015 - val_acc: 0.9763 - val_sparse_top_k_categorical_accuracy: 0.9985\n",
      "Epoch 80/150\n",
      "9253/9253 [==============================] - 5s 556us/step - loss: 0.0196 - acc: 0.9919 - sparse_top_k_categorical_accuracy: 1.0000 - val_loss: 0.1615 - val_acc: 0.9597 - val_sparse_top_k_categorical_accuracy: 0.9965\n",
      "Epoch 81/150\n",
      "9253/9253 [==============================] - 5s 555us/step - loss: 0.0228 - acc: 0.9896 - sparse_top_k_categorical_accuracy: 1.0000 - val_loss: 0.0916 - val_acc: 0.9738 - val_sparse_top_k_categorical_accuracy: 0.9975\n",
      "Epoch 82/150\n",
      "9253/9253 [==============================] - 5s 555us/step - loss: 0.0205 - acc: 0.9909 - sparse_top_k_categorical_accuracy: 1.0000 - val_loss: 0.1094 - val_acc: 0.9702 - val_sparse_top_k_categorical_accuracy: 0.9990\n",
      "Epoch 83/150\n",
      "9253/9253 [==============================] - 5s 556us/step - loss: 0.0204 - acc: 0.9919 - sparse_top_k_categorical_accuracy: 1.0000 - val_loss: 0.1376 - val_acc: 0.9677 - val_sparse_top_k_categorical_accuracy: 0.9975\n",
      "Epoch 84/150\n",
      "9253/9253 [==============================] - 5s 556us/step - loss: 0.0220 - acc: 0.9909 - sparse_top_k_categorical_accuracy: 1.0000 - val_loss: 0.1176 - val_acc: 0.9702 - val_sparse_top_k_categorical_accuracy: 0.9985\n",
      "Epoch 85/150\n",
      "9253/9253 [==============================] - 5s 554us/step - loss: 0.0202 - acc: 0.9912 - sparse_top_k_categorical_accuracy: 1.0000 - val_loss: 0.1266 - val_acc: 0.9642 - val_sparse_top_k_categorical_accuracy: 0.9985\n",
      "Epoch 86/150\n",
      "9253/9253 [==============================] - 5s 557us/step - loss: 0.0223 - acc: 0.9911 - sparse_top_k_categorical_accuracy: 1.0000 - val_loss: 0.1299 - val_acc: 0.9647 - val_sparse_top_k_categorical_accuracy: 0.9960\n",
      "Epoch 87/150\n",
      "9253/9253 [==============================] - 5s 556us/step - loss: 0.0200 - acc: 0.9909 - sparse_top_k_categorical_accuracy: 1.0000 - val_loss: 0.0916 - val_acc: 0.9758 - val_sparse_top_k_categorical_accuracy: 0.9980\n",
      "Epoch 88/150\n",
      "9253/9253 [==============================] - 5s 556us/step - loss: 0.0230 - acc: 0.9903 - sparse_top_k_categorical_accuracy: 1.0000 - val_loss: 0.2627 - val_acc: 0.9314 - val_sparse_top_k_categorical_accuracy: 0.9945\n",
      "Epoch 89/150\n",
      "9253/9253 [==============================] - 5s 557us/step - loss: 0.0177 - acc: 0.9929 - sparse_top_k_categorical_accuracy: 1.0000 - val_loss: 0.1282 - val_acc: 0.9718 - val_sparse_top_k_categorical_accuracy: 0.9990\n",
      "Epoch 90/150\n",
      "9253/9253 [==============================] - 5s 557us/step - loss: 0.0238 - acc: 0.9915 - sparse_top_k_categorical_accuracy: 1.0000 - val_loss: 0.1461 - val_acc: 0.9617 - val_sparse_top_k_categorical_accuracy: 0.9990\n",
      "Epoch 91/150\n",
      "9253/9253 [==============================] - 5s 556us/step - loss: 0.0219 - acc: 0.9909 - sparse_top_k_categorical_accuracy: 1.0000 - val_loss: 0.1142 - val_acc: 0.9738 - val_sparse_top_k_categorical_accuracy: 0.9975\n",
      "Epoch 92/150\n",
      "9253/9253 [==============================] - 5s 558us/step - loss: 0.0224 - acc: 0.9901 - sparse_top_k_categorical_accuracy: 1.0000 - val_loss: 0.0995 - val_acc: 0.9753 - val_sparse_top_k_categorical_accuracy: 0.9990\n",
      "Epoch 93/150\n",
      "9253/9253 [==============================] - 5s 556us/step - loss: 0.0234 - acc: 0.9909 - sparse_top_k_categorical_accuracy: 1.0000 - val_loss: 0.1228 - val_acc: 0.9682 - val_sparse_top_k_categorical_accuracy: 0.9975\n",
      "Epoch 94/150\n",
      "9253/9253 [==============================] - 5s 556us/step - loss: 0.0221 - acc: 0.9905 - sparse_top_k_categorical_accuracy: 1.0000 - val_loss: 0.1075 - val_acc: 0.9748 - val_sparse_top_k_categorical_accuracy: 0.9985\n",
      "Epoch 95/150\n",
      "9253/9253 [==============================] - 5s 559us/step - loss: 0.0221 - acc: 0.9904 - sparse_top_k_categorical_accuracy: 1.0000 - val_loss: 0.0998 - val_acc: 0.9743 - val_sparse_top_k_categorical_accuracy: 0.9985\n",
      "Epoch 96/150\n",
      "9253/9253 [==============================] - 5s 556us/step - loss: 0.0188 - acc: 0.9927 - sparse_top_k_categorical_accuracy: 1.0000 - val_loss: 0.1126 - val_acc: 0.9728 - val_sparse_top_k_categorical_accuracy: 0.9970\n",
      "Epoch 97/150\n",
      "9253/9253 [==============================] - 5s 556us/step - loss: 0.0220 - acc: 0.9910 - sparse_top_k_categorical_accuracy: 1.0000 - val_loss: 0.1341 - val_acc: 0.9652 - val_sparse_top_k_categorical_accuracy: 0.9980\n",
      "Epoch 98/150\n",
      "9253/9253 [==============================] - 5s 556us/step - loss: 0.0217 - acc: 0.9904 - sparse_top_k_categorical_accuracy: 1.0000 - val_loss: 0.0979 - val_acc: 0.9773 - val_sparse_top_k_categorical_accuracy: 0.9985\n",
      "Epoch 99/150\n",
      "9253/9253 [==============================] - 5s 557us/step - loss: 0.0178 - acc: 0.9920 - sparse_top_k_categorical_accuracy: 1.0000 - val_loss: 0.2201 - val_acc: 0.9465 - val_sparse_top_k_categorical_accuracy: 0.9950\n",
      "Epoch 100/150\n",
      "9253/9253 [==============================] - 5s 556us/step - loss: 0.0209 - acc: 0.9908 - sparse_top_k_categorical_accuracy: 1.0000 - val_loss: 0.0985 - val_acc: 0.9763 - val_sparse_top_k_categorical_accuracy: 0.9980\n",
      "Epoch 101/150\n",
      "9253/9253 [==============================] - 5s 555us/step - loss: 0.0193 - acc: 0.9922 - sparse_top_k_categorical_accuracy: 1.0000 - val_loss: 0.2444 - val_acc: 0.9415 - val_sparse_top_k_categorical_accuracy: 0.9970\n",
      "Epoch 102/150\n",
      "9253/9253 [==============================] - 5s 556us/step - loss: 0.0206 - acc: 0.9910 - sparse_top_k_categorical_accuracy: 1.0000 - val_loss: 0.1023 - val_acc: 0.9743 - val_sparse_top_k_categorical_accuracy: 0.9990\n",
      "Epoch 103/150\n",
      "9253/9253 [==============================] - 5s 555us/step - loss: 0.0191 - acc: 0.9911 - sparse_top_k_categorical_accuracy: 1.0000 - val_loss: 0.1336 - val_acc: 0.9672 - val_sparse_top_k_categorical_accuracy: 0.9980\n",
      "Epoch 104/150\n",
      "9253/9253 [==============================] - 5s 556us/step - loss: 0.0207 - acc: 0.9912 - sparse_top_k_categorical_accuracy: 1.0000 - val_loss: 0.1671 - val_acc: 0.9551 - val_sparse_top_k_categorical_accuracy: 0.9970\n",
      "Epoch 105/150\n",
      "9253/9253 [==============================] - 5s 556us/step - loss: 0.0209 - acc: 0.9912 - sparse_top_k_categorical_accuracy: 0.9999 - val_loss: 0.1191 - val_acc: 0.9687 - val_sparse_top_k_categorical_accuracy: 0.9985\n",
      "Epoch 106/150\n",
      "9253/9253 [==============================] - 5s 556us/step - loss: 0.0190 - acc: 0.9924 - sparse_top_k_categorical_accuracy: 1.0000 - val_loss: 0.1067 - val_acc: 0.9738 - val_sparse_top_k_categorical_accuracy: 0.9990\n",
      "Epoch 107/150\n",
      "9253/9253 [==============================] - 5s 555us/step - loss: 0.0209 - acc: 0.9903 - sparse_top_k_categorical_accuracy: 1.0000 - val_loss: 0.1090 - val_acc: 0.9708 - val_sparse_top_k_categorical_accuracy: 0.9985\n",
      "Epoch 108/150\n",
      "9253/9253 [==============================] - 5s 556us/step - loss: 0.0201 - acc: 0.9922 - sparse_top_k_categorical_accuracy: 1.0000 - val_loss: 0.1542 - val_acc: 0.9713 - val_sparse_top_k_categorical_accuracy: 0.9985\n",
      "Epoch 109/150\n",
      "9253/9253 [==============================] - 5s 556us/step - loss: 0.0164 - acc: 0.9919 - sparse_top_k_categorical_accuracy: 1.0000 - val_loss: 0.1325 - val_acc: 0.9692 - val_sparse_top_k_categorical_accuracy: 0.9975\n",
      "Epoch 110/150\n",
      "9253/9253 [==============================] - 5s 557us/step - loss: 0.0195 - acc: 0.9922 - sparse_top_k_categorical_accuracy: 1.0000 - val_loss: 0.1193 - val_acc: 0.9697 - val_sparse_top_k_categorical_accuracy: 0.9975\n",
      "Epoch 111/150\n",
      "9253/9253 [==============================] - 5s 557us/step - loss: 0.0172 - acc: 0.9918 - sparse_top_k_categorical_accuracy: 1.0000 - val_loss: 0.1251 - val_acc: 0.9687 - val_sparse_top_k_categorical_accuracy: 0.9975\n",
      "Epoch 112/150\n",
      "9253/9253 [==============================] - 5s 555us/step - loss: 0.0192 - acc: 0.9924 - sparse_top_k_categorical_accuracy: 1.0000 - val_loss: 0.1230 - val_acc: 0.9687 - val_sparse_top_k_categorical_accuracy: 0.9980\n",
      "Epoch 113/150\n",
      "9253/9253 [==============================] - 5s 557us/step - loss: 0.0220 - acc: 0.9921 - sparse_top_k_categorical_accuracy: 1.0000 - val_loss: 0.1046 - val_acc: 0.9758 - val_sparse_top_k_categorical_accuracy: 0.9975\n",
      "Epoch 114/150\n",
      "9253/9253 [==============================] - 5s 555us/step - loss: 0.0200 - acc: 0.9917 - sparse_top_k_categorical_accuracy: 1.0000 - val_loss: 0.1118 - val_acc: 0.9723 - val_sparse_top_k_categorical_accuracy: 0.9990\n",
      "Epoch 115/150\n",
      "9253/9253 [==============================] - 5s 556us/step - loss: 0.0174 - acc: 0.9925 - sparse_top_k_categorical_accuracy: 1.0000 - val_loss: 0.1154 - val_acc: 0.9728 - val_sparse_top_k_categorical_accuracy: 0.9975\n",
      "Epoch 116/150\n",
      "9253/9253 [==============================] - 5s 555us/step - loss: 0.0196 - acc: 0.9915 - sparse_top_k_categorical_accuracy: 0.9999 - val_loss: 0.1081 - val_acc: 0.9753 - val_sparse_top_k_categorical_accuracy: 0.9985\n",
      "Epoch 117/150\n",
      "9253/9253 [==============================] - 5s 562us/step - loss: 0.0177 - acc: 0.9922 - sparse_top_k_categorical_accuracy: 1.0000 - val_loss: 0.1577 - val_acc: 0.9607 - val_sparse_top_k_categorical_accuracy: 0.9975\n",
      "Epoch 118/150\n",
      "9253/9253 [==============================] - 5s 568us/step - loss: 0.0192 - acc: 0.9911 - sparse_top_k_categorical_accuracy: 1.0000 - val_loss: 0.1098 - val_acc: 0.9718 - val_sparse_top_k_categorical_accuracy: 0.9985\n",
      "Epoch 119/150\n",
      "9253/9253 [==============================] - 5s 569us/step - loss: 0.0198 - acc: 0.9916 - sparse_top_k_categorical_accuracy: 1.0000 - val_loss: 0.1438 - val_acc: 0.9667 - val_sparse_top_k_categorical_accuracy: 0.9975\n",
      "Epoch 120/150\n",
      "9253/9253 [==============================] - 5s 562us/step - loss: 0.0183 - acc: 0.9912 - sparse_top_k_categorical_accuracy: 0.9999 - val_loss: 0.1341 - val_acc: 0.9702 - val_sparse_top_k_categorical_accuracy: 0.9980\n",
      "Epoch 121/150\n",
      "9253/9253 [==============================] - 5s 556us/step - loss: 0.0189 - acc: 0.9921 - sparse_top_k_categorical_accuracy: 1.0000 - val_loss: 0.1027 - val_acc: 0.9748 - val_sparse_top_k_categorical_accuracy: 0.9985\n",
      "Epoch 122/150\n",
      "9253/9253 [==============================] - 5s 555us/step - loss: 0.0201 - acc: 0.9905 - sparse_top_k_categorical_accuracy: 1.0000 - val_loss: 0.1123 - val_acc: 0.9738 - val_sparse_top_k_categorical_accuracy: 0.9985\n",
      "Epoch 123/150\n",
      "9253/9253 [==============================] - 5s 565us/step - loss: 0.0212 - acc: 0.9907 - sparse_top_k_categorical_accuracy: 1.0000 - val_loss: 0.1322 - val_acc: 0.9682 - val_sparse_top_k_categorical_accuracy: 0.9985\n",
      "Epoch 124/150\n",
      "9253/9253 [==============================] - 5s 570us/step - loss: 0.0187 - acc: 0.9911 - sparse_top_k_categorical_accuracy: 1.0000 - val_loss: 0.1506 - val_acc: 0.9632 - val_sparse_top_k_categorical_accuracy: 0.9975\n",
      "Epoch 125/150\n",
      "9253/9253 [==============================] - 5s 567us/step - loss: 0.0212 - acc: 0.9912 - sparse_top_k_categorical_accuracy: 1.0000 - val_loss: 0.0993 - val_acc: 0.9763 - val_sparse_top_k_categorical_accuracy: 0.9990\n",
      "Epoch 126/150\n",
      "9253/9253 [==============================] - 5s 566us/step - loss: 0.0195 - acc: 0.9920 - sparse_top_k_categorical_accuracy: 1.0000 - val_loss: 0.1108 - val_acc: 0.9713 - val_sparse_top_k_categorical_accuracy: 0.9980\n",
      "Epoch 127/150\n",
      "9253/9253 [==============================] - 5s 551us/step - loss: 0.0202 - acc: 0.9905 - sparse_top_k_categorical_accuracy: 1.0000 - val_loss: 0.1370 - val_acc: 0.9677 - val_sparse_top_k_categorical_accuracy: 0.9965\n",
      "Epoch 128/150\n",
      "9253/9253 [==============================] - 5s 557us/step - loss: 0.0191 - acc: 0.9917 - sparse_top_k_categorical_accuracy: 1.0000 - val_loss: 0.1843 - val_acc: 0.9581 - val_sparse_top_k_categorical_accuracy: 0.9965\n",
      "Epoch 129/150\n",
      "9253/9253 [==============================] - 5s 553us/step - loss: 0.0179 - acc: 0.9917 - sparse_top_k_categorical_accuracy: 1.0000 - val_loss: 0.1341 - val_acc: 0.9728 - val_sparse_top_k_categorical_accuracy: 0.9965\n",
      "Epoch 130/150\n",
      "9253/9253 [==============================] - 5s 555us/step - loss: 0.0181 - acc: 0.9917 - sparse_top_k_categorical_accuracy: 1.0000 - val_loss: 0.2291 - val_acc: 0.9531 - val_sparse_top_k_categorical_accuracy: 0.9965\n",
      "Epoch 131/150\n",
      "9253/9253 [==============================] - 5s 551us/step - loss: 0.0171 - acc: 0.9930 - sparse_top_k_categorical_accuracy: 1.0000 - val_loss: 0.2653 - val_acc: 0.9400 - val_sparse_top_k_categorical_accuracy: 0.9955\n",
      "Epoch 132/150\n",
      "9253/9253 [==============================] - 5s 557us/step - loss: 0.0195 - acc: 0.9914 - sparse_top_k_categorical_accuracy: 1.0000 - val_loss: 0.1075 - val_acc: 0.9763 - val_sparse_top_k_categorical_accuracy: 0.9980\n",
      "Epoch 133/150\n",
      "9253/9253 [==============================] - 5s 551us/step - loss: 0.0161 - acc: 0.9924 - sparse_top_k_categorical_accuracy: 1.0000 - val_loss: 0.1277 - val_acc: 0.9687 - val_sparse_top_k_categorical_accuracy: 0.9985\n",
      "Epoch 134/150\n",
      "9253/9253 [==============================] - 5s 550us/step - loss: 0.0160 - acc: 0.9927 - sparse_top_k_categorical_accuracy: 1.0000 - val_loss: 0.1424 - val_acc: 0.9733 - val_sparse_top_k_categorical_accuracy: 0.9980\n",
      "Epoch 135/150\n",
      "9253/9253 [==============================] - 5s 550us/step - loss: 0.0187 - acc: 0.9911 - sparse_top_k_categorical_accuracy: 1.0000 - val_loss: 0.1313 - val_acc: 0.9692 - val_sparse_top_k_categorical_accuracy: 0.9975\n",
      "Epoch 136/150\n",
      "9253/9253 [==============================] - 5s 551us/step - loss: 0.0200 - acc: 0.9915 - sparse_top_k_categorical_accuracy: 1.0000 - val_loss: 0.2079 - val_acc: 0.9581 - val_sparse_top_k_categorical_accuracy: 0.9975\n",
      "Epoch 137/150\n",
      "9253/9253 [==============================] - 5s 548us/step - loss: 0.0183 - acc: 0.9929 - sparse_top_k_categorical_accuracy: 1.0000 - val_loss: 0.1170 - val_acc: 0.9708 - val_sparse_top_k_categorical_accuracy: 0.9980\n",
      "Epoch 138/150\n",
      "9253/9253 [==============================] - 5s 546us/step - loss: 0.0189 - acc: 0.9923 - sparse_top_k_categorical_accuracy: 1.0000 - val_loss: 0.1309 - val_acc: 0.9748 - val_sparse_top_k_categorical_accuracy: 0.9980\n",
      "Epoch 139/150\n",
      "9253/9253 [==============================] - 5s 550us/step - loss: 0.0204 - acc: 0.9917 - sparse_top_k_categorical_accuracy: 1.0000 - val_loss: 0.1586 - val_acc: 0.9652 - val_sparse_top_k_categorical_accuracy: 0.9985\n",
      "Epoch 140/150\n",
      "9253/9253 [==============================] - 5s 549us/step - loss: 0.0170 - acc: 0.9930 - sparse_top_k_categorical_accuracy: 1.0000 - val_loss: 0.1438 - val_acc: 0.9667 - val_sparse_top_k_categorical_accuracy: 0.9965\n",
      "Epoch 141/150\n"
     ]
    },
    {
     "name": "stdout",
     "output_type": "stream",
     "text": [
      "9253/9253 [==============================] - 5s 550us/step - loss: 0.0168 - acc: 0.9921 - sparse_top_k_categorical_accuracy: 1.0000 - val_loss: 0.1174 - val_acc: 0.9753 - val_sparse_top_k_categorical_accuracy: 0.9985\n",
      "Epoch 142/150\n",
      "9253/9253 [==============================] - 5s 550us/step - loss: 0.0170 - acc: 0.9918 - sparse_top_k_categorical_accuracy: 1.0000 - val_loss: 0.1177 - val_acc: 0.9718 - val_sparse_top_k_categorical_accuracy: 0.9980\n",
      "Epoch 143/150\n",
      "9253/9253 [==============================] - 5s 550us/step - loss: 0.0168 - acc: 0.9920 - sparse_top_k_categorical_accuracy: 1.0000 - val_loss: 0.1140 - val_acc: 0.9753 - val_sparse_top_k_categorical_accuracy: 0.9990\n",
      "Epoch 144/150\n",
      "9253/9253 [==============================] - 5s 550us/step - loss: 0.0176 - acc: 0.9923 - sparse_top_k_categorical_accuracy: 1.0000 - val_loss: 0.1096 - val_acc: 0.9733 - val_sparse_top_k_categorical_accuracy: 0.9980\n",
      "Epoch 145/150\n",
      "9253/9253 [==============================] - 5s 550us/step - loss: 0.0172 - acc: 0.9917 - sparse_top_k_categorical_accuracy: 1.0000 - val_loss: 0.1149 - val_acc: 0.9788 - val_sparse_top_k_categorical_accuracy: 0.9980\n",
      "Epoch 146/150\n",
      "9253/9253 [==============================] - 5s 550us/step - loss: 0.0166 - acc: 0.9930 - sparse_top_k_categorical_accuracy: 1.0000 - val_loss: 0.1401 - val_acc: 0.9692 - val_sparse_top_k_categorical_accuracy: 0.9985\n",
      "Epoch 147/150\n",
      "9253/9253 [==============================] - 5s 549us/step - loss: 0.0171 - acc: 0.9922 - sparse_top_k_categorical_accuracy: 1.0000 - val_loss: 0.1003 - val_acc: 0.9768 - val_sparse_top_k_categorical_accuracy: 0.9975\n",
      "Epoch 148/150\n",
      "9253/9253 [==============================] - 5s 550us/step - loss: 0.0168 - acc: 0.9915 - sparse_top_k_categorical_accuracy: 1.0000 - val_loss: 0.1269 - val_acc: 0.9738 - val_sparse_top_k_categorical_accuracy: 0.9990\n",
      "Epoch 149/150\n",
      "9253/9253 [==============================] - 5s 550us/step - loss: 0.0168 - acc: 0.9916 - sparse_top_k_categorical_accuracy: 1.0000 - val_loss: 0.1044 - val_acc: 0.9783 - val_sparse_top_k_categorical_accuracy: 0.9980\n",
      "Epoch 150/150\n",
      "9253/9253 [==============================] - 5s 550us/step - loss: 0.0184 - acc: 0.9924 - sparse_top_k_categorical_accuracy: 1.0000 - val_loss: 0.1245 - val_acc: 0.9708 - val_sparse_top_k_categorical_accuracy: 0.9980\n"
     ]
    }
   ],
   "source": [
    "#model 2\n",
    "model.compile(loss='sparse_categorical_crossentropy', optimizer=opt, metrics=['accuracy','sparse_top_k_categorical_accuracy'])\n",
    "history=model.fit(X_train,y_train, batch_size=32, epochs=150, validation_data=(X_val, y_val) )\n"
   ]
  },
  {
   "cell_type": "code",
   "execution_count": 13,
   "metadata": {},
   "outputs": [
    {
     "data": {
      "text/html": [
       "<div>\n",
       "<style scoped>\n",
       "    .dataframe tbody tr th:only-of-type {\n",
       "        vertical-align: middle;\n",
       "    }\n",
       "\n",
       "    .dataframe tbody tr th {\n",
       "        vertical-align: top;\n",
       "    }\n",
       "\n",
       "    .dataframe thead th {\n",
       "        text-align: right;\n",
       "    }\n",
       "</style>\n",
       "<table border=\"1\" class=\"dataframe\">\n",
       "  <thead>\n",
       "    <tr style=\"text-align: right;\">\n",
       "      <th></th>\n",
       "      <th>val_loss</th>\n",
       "      <th>val_acc</th>\n",
       "      <th>val_sparse_top_k_categorical_accuracy</th>\n",
       "      <th>loss</th>\n",
       "      <th>acc</th>\n",
       "      <th>sparse_top_k_categorical_accuracy</th>\n",
       "      <th>epoch</th>\n",
       "    </tr>\n",
       "  </thead>\n",
       "  <tbody>\n",
       "    <tr>\n",
       "      <th>145</th>\n",
       "      <td>0.063533</td>\n",
       "      <td>0.977307</td>\n",
       "      <td>0.998991</td>\n",
       "      <td>0.015334</td>\n",
       "      <td>0.992867</td>\n",
       "      <td>1.0</td>\n",
       "      <td>145</td>\n",
       "    </tr>\n",
       "    <tr>\n",
       "      <th>146</th>\n",
       "      <td>0.065490</td>\n",
       "      <td>0.979324</td>\n",
       "      <td>0.998487</td>\n",
       "      <td>0.014834</td>\n",
       "      <td>0.993083</td>\n",
       "      <td>1.0</td>\n",
       "      <td>146</td>\n",
       "    </tr>\n",
       "    <tr>\n",
       "      <th>147</th>\n",
       "      <td>0.071761</td>\n",
       "      <td>0.975290</td>\n",
       "      <td>0.998991</td>\n",
       "      <td>0.015745</td>\n",
       "      <td>0.992219</td>\n",
       "      <td>1.0</td>\n",
       "      <td>147</td>\n",
       "    </tr>\n",
       "    <tr>\n",
       "      <th>148</th>\n",
       "      <td>0.071966</td>\n",
       "      <td>0.975290</td>\n",
       "      <td>0.998991</td>\n",
       "      <td>0.015159</td>\n",
       "      <td>0.992219</td>\n",
       "      <td>1.0</td>\n",
       "      <td>148</td>\n",
       "    </tr>\n",
       "    <tr>\n",
       "      <th>149</th>\n",
       "      <td>0.068629</td>\n",
       "      <td>0.974786</td>\n",
       "      <td>0.998991</td>\n",
       "      <td>0.019177</td>\n",
       "      <td>0.991570</td>\n",
       "      <td>1.0</td>\n",
       "      <td>149</td>\n",
       "    </tr>\n",
       "  </tbody>\n",
       "</table>\n",
       "</div>"
      ],
      "text/plain": [
       "     val_loss   val_acc  val_sparse_top_k_categorical_accuracy      loss  \\\n",
       "145  0.063533  0.977307                               0.998991  0.015334   \n",
       "146  0.065490  0.979324                               0.998487  0.014834   \n",
       "147  0.071761  0.975290                               0.998991  0.015745   \n",
       "148  0.071966  0.975290                               0.998991  0.015159   \n",
       "149  0.068629  0.974786                               0.998991  0.019177   \n",
       "\n",
       "          acc  sparse_top_k_categorical_accuracy  epoch  \n",
       "145  0.992867                                1.0    145  \n",
       "146  0.993083                                1.0    146  \n",
       "147  0.992219                                1.0    147  \n",
       "148  0.992219                                1.0    148  \n",
       "149  0.991570                                1.0    149  "
      ]
     },
     "execution_count": 13,
     "metadata": {},
     "output_type": "execute_result"
    }
   ],
   "source": [
    "import pandas as pd\n",
    "hist = pd.DataFrame(history.history)\n",
    "hist['epoch'] = history.epoch\n",
    "hist.tail()"
   ]
  },
  {
   "cell_type": "code",
   "execution_count": 14,
   "metadata": {},
   "outputs": [
    {
     "name": "stdout",
     "output_type": "stream",
     "text": [
      "Test loss: 0.07355537263918865 / Test accuracy: 0.9737771054259227\n"
     ]
    }
   ],
   "source": [
    "# Generate generalization metrics\n",
    "score = model.evaluate( X_tes, y_tes, verbose=0)\n",
    "print(f'Test loss: {score[0]} / Test accuracy: {score[1]}')"
   ]
  },
  {
   "cell_type": "code",
   "execution_count": 15,
   "metadata": {},
   "outputs": [],
   "source": [
    "y_pred = model.predict(X_tes)\n",
    "y_pred  = y_pred.argmax(axis=-1)"
   ]
  },
  {
   "cell_type": "code",
   "execution_count": 16,
   "metadata": {},
   "outputs": [
    {
     "name": "stdout",
     "output_type": "stream",
     "text": [
      "Confusion Matrix\n",
      "\n",
      "[[32  0  0 ...  0  0  0]\n",
      " [ 0 37  0 ...  0  0  0]\n",
      " [ 0  0 34 ...  0  0  0]\n",
      " ...\n",
      " [ 0  0  0 ... 40  0  0]\n",
      " [ 0  0  0 ...  0 35  0]\n",
      " [ 0  0  0 ...  0  0 31]]\n",
      "\n",
      "Accuracy: 0.97378\n",
      "\n"
     ]
    }
   ],
   "source": [
    "#importing confusion matrix\n",
    "from sklearn.metrics import confusion_matrix\n",
    "confusion = confusion_matrix(y_tes, y_pred )\n",
    "print('Confusion Matrix\\n')\n",
    "print(confusion)\n",
    "#importing accuracy_score, precision_score, recall_score, f1_score\n",
    "from sklearn.metrics import accuracy_score, precision_score, recall_score, f1_score\n",
    "print('\\nAccuracy: {:.5f}\\n'.format(accuracy_score(y_tes, y_pred)))"
   ]
  },
  {
   "cell_type": "code",
   "execution_count": 17,
   "metadata": {},
   "outputs": [
    {
     "name": "stdout",
     "output_type": "stream",
     "text": [
      "Micro Precision: 0.97378\n",
      "Micro Recall: 0.97378\n",
      "Micro F1-score: 0.97378\n",
      "\n",
      "Macro Precision: 0.97369\n",
      "Macro Recall: 0.97378\n",
      "Macro F1-score: 0.97320\n",
      "\n",
      "Weighted Precision: 0.97504\n",
      "Weighted Recall: 0.97378\n",
      "Weighted F1-score: 0.97387\n"
     ]
    }
   ],
   "source": [
    "print('Micro Precision: {:.5f}'.format(precision_score(y_tes, y_pred, average='micro')))\n",
    "print('Micro Recall: {:.5f}'.format(recall_score(y_tes, y_pred, average='micro')))\n",
    "print('Micro F1-score: {:.5f}\\n'.format(f1_score(y_tes, y_pred, average='micro')))\n",
    "\n",
    "print('Macro Precision: {:.5f}'.format(precision_score(y_tes, y_pred, average='macro')))\n",
    "print('Macro Recall: {:.5f}'.format(recall_score(y_tes, y_pred, average='macro')))\n",
    "print('Macro F1-score: {:.5f}\\n'.format(f1_score(y_tes, y_pred, average='macro')))\n",
    "\n",
    "print('Weighted Precision: {:.5f}'.format(precision_score(y_tes, y_pred, average='weighted')))\n",
    "print('Weighted Recall: {:.5f}'.format(recall_score(y_tes, y_pred, average='weighted')))\n",
    "print('Weighted F1-score: {:.5f}'.format(f1_score(y_tes, y_pred, average='weighted')))"
   ]
  },
  {
   "cell_type": "code",
   "execution_count": 18,
   "metadata": {},
   "outputs": [
    {
     "name": "stdout",
     "output_type": "stream",
     "text": [
      "\n",
      "Classification Report\n",
      "\n",
      "              precision    recall  f1-score   support\n",
      "\n",
      "           0       1.00      1.00      1.00        32\n",
      "           1       1.00      0.97      0.99        38\n",
      "           2       0.97      0.94      0.96        36\n",
      "           3       1.00      1.00      1.00        32\n",
      "           4       0.93      0.96      0.94        26\n",
      "           5       1.00      1.00      1.00        28\n",
      "           6       1.00      1.00      1.00        37\n",
      "           7       1.00      0.97      0.99        38\n",
      "           8       1.00      0.92      0.96        25\n",
      "           9       1.00      1.00      1.00        37\n",
      "          10       1.00      0.97      0.99        34\n",
      "          11       1.00      1.00      1.00        30\n",
      "          12       0.66      0.49      0.56        43\n",
      "          13       0.42      0.59      0.49        29\n",
      "          14       0.96      1.00      0.98        24\n",
      "          15       1.00      1.00      1.00        29\n",
      "          16       0.91      1.00      0.95        31\n",
      "          17       1.00      1.00      1.00        30\n",
      "          18       0.96      1.00      0.98        22\n",
      "          19       1.00      1.00      1.00        39\n",
      "          20       1.00      1.00      1.00        34\n",
      "          21       0.97      0.95      0.96        37\n",
      "          22       0.96      0.96      0.96        24\n",
      "          23       1.00      1.00      1.00        21\n",
      "          24       1.00      0.96      0.98        26\n",
      "          25       1.00      1.00      1.00        37\n",
      "          26       0.97      1.00      0.98        30\n",
      "          27       1.00      1.00      1.00        36\n",
      "          28       1.00      1.00      1.00        27\n",
      "          29       1.00      1.00      1.00        33\n",
      "          30       0.97      0.94      0.95        31\n",
      "          31       0.62      0.54      0.58        28\n",
      "          32       0.55      0.64      0.59        25\n",
      "          33       1.00      0.96      0.98        27\n",
      "          34       1.00      0.94      0.97        33\n",
      "          35       0.95      1.00      0.98        40\n",
      "          36       1.00      0.93      0.96        28\n",
      "          37       1.00      1.00      1.00        27\n",
      "          38       1.00      1.00      1.00        34\n",
      "          39       0.97      1.00      0.98        29\n",
      "          40       0.96      1.00      0.98        23\n",
      "          41       0.95      1.00      0.97        39\n",
      "          42       1.00      1.00      1.00        36\n",
      "          43       1.00      1.00      1.00        34\n",
      "          44       0.96      1.00      0.98        27\n",
      "          45       0.97      0.97      0.97        36\n",
      "          46       0.97      1.00      0.99        37\n",
      "          47       1.00      0.96      0.98        23\n",
      "          48       1.00      1.00      1.00        34\n",
      "          49       0.93      0.93      0.93        29\n",
      "          50       1.00      1.00      1.00        28\n",
      "          51       1.00      0.88      0.94        33\n",
      "          52       1.00      1.00      1.00        28\n",
      "          53       1.00      0.97      0.99        37\n",
      "          54       1.00      1.00      1.00        29\n",
      "          55       1.00      1.00      1.00        37\n",
      "          56       1.00      0.97      0.98        30\n",
      "          57       1.00      0.97      0.99        38\n",
      "          58       1.00      1.00      1.00        29\n",
      "          59       1.00      1.00      1.00        31\n",
      "          60       1.00      1.00      1.00        25\n",
      "          61       0.97      1.00      0.98        32\n",
      "          62       0.96      1.00      0.98        23\n",
      "          63       1.00      1.00      1.00        33\n",
      "          64       0.97      1.00      0.98        32\n",
      "          65       1.00      1.00      1.00        36\n",
      "          66       0.96      1.00      0.98        27\n",
      "          67       1.00      1.00      1.00        24\n",
      "          68       1.00      0.97      0.99        36\n",
      "          69       1.00      1.00      1.00        31\n",
      "          70       1.00      1.00      1.00        31\n",
      "          71       1.00      1.00      1.00        32\n",
      "          72       1.00      1.00      1.00        32\n",
      "          73       1.00      0.91      0.96        35\n",
      "          74       1.00      1.00      1.00        33\n",
      "          75       0.97      1.00      0.98        31\n",
      "          76       1.00      1.00      1.00        34\n",
      "          77       0.96      1.00      0.98        27\n",
      "          78       1.00      1.00      1.00        36\n",
      "          79       0.93      0.96      0.95        27\n",
      "          80       0.97      1.00      0.98        29\n",
      "          81       0.97      1.00      0.99        37\n",
      "          82       1.00      1.00      1.00        35\n",
      "          83       0.86      1.00      0.93        32\n",
      "          84       1.00      1.00      1.00        39\n",
      "          85       1.00      1.00      1.00        24\n",
      "          86       1.00      1.00      1.00        40\n",
      "          87       1.00      0.97      0.99        35\n",
      "          88       1.00      1.00      1.00        31\n",
      "          89       1.00      1.00      1.00        43\n",
      "          90       0.97      1.00      0.99        36\n",
      "          91       1.00      1.00      1.00        32\n",
      "          92       1.00      1.00      1.00        40\n",
      "          93       1.00      0.97      0.98        33\n",
      "          94       0.97      1.00      0.98        28\n",
      "          95       1.00      0.91      0.95        34\n",
      "          96       1.00      1.00      1.00        28\n",
      "          97       1.00      1.00      1.00        29\n",
      "          98       1.00      0.97      0.99        36\n",
      "          99       0.89      1.00      0.94        24\n",
      "         100       1.00      1.00      1.00        21\n",
      "         101       1.00      1.00      1.00        38\n",
      "         102       1.00      1.00      1.00        33\n",
      "         103       1.00      0.97      0.98        30\n",
      "         104       1.00      1.00      1.00        33\n",
      "         105       0.97      1.00      0.99        39\n",
      "         106       1.00      1.00      1.00        40\n",
      "         107       1.00      1.00      1.00        33\n",
      "         108       1.00      0.97      0.99        40\n",
      "         109       1.00      1.00      1.00        33\n",
      "         110       1.00      1.00      1.00        26\n",
      "         111       0.95      0.97      0.96        36\n",
      "         112       1.00      1.00      1.00        36\n",
      "         113       1.00      1.00      1.00        30\n",
      "         114       1.00      1.00      1.00        34\n",
      "         115       1.00      0.94      0.97        35\n",
      "         116       1.00      1.00      1.00        30\n",
      "         117       1.00      1.00      1.00        28\n",
      "         118       0.97      0.94      0.95        33\n",
      "         119       0.97      1.00      0.99        37\n",
      "         120       1.00      1.00      1.00        28\n",
      "         121       1.00      1.00      1.00        40\n",
      "         122       1.00      1.00      1.00        35\n",
      "         123       1.00      1.00      1.00        31\n",
      "\n",
      "    accuracy                           0.97      3966\n",
      "   macro avg       0.97      0.97      0.97      3966\n",
      "weighted avg       0.98      0.97      0.97      3966\n",
      "\n"
     ]
    }
   ],
   "source": [
    "from sklearn.metrics import classification_report\n",
    "print('\\nClassification Report\\n')\n",
    "print(classification_report(y_tes, y_pred))"
   ]
  },
  {
   "cell_type": "code",
   "execution_count": null,
   "metadata": {},
   "outputs": [],
   "source": []
  },
  {
   "cell_type": "code",
   "execution_count": null,
   "metadata": {},
   "outputs": [],
   "source": []
  },
  {
   "cell_type": "markdown",
   "metadata": {},
   "source": [
    "# CCR For Angle 0"
   ]
  },
  {
   "cell_type": "code",
   "execution_count": 19,
   "metadata": {},
   "outputs": [],
   "source": [
    "pickle_in = open(\"X_0a.pickle\",\"rb\")\n",
    "Xa = pickle.load(pickle_in)\n",
    "\n",
    "pickle_in = open(\"y_0a.pickle\",\"rb\")\n",
    "ya = pickle.load(pickle_in)\n",
    "num_classes=124\n",
    "Xa = Xa/255.0\n",
    "\n",
    "y=np.array(y)"
   ]
  },
  {
   "cell_type": "code",
   "execution_count": 20,
   "metadata": {},
   "outputs": [
    {
     "data": {
      "text/plain": [
       "(1207, 120, 120, 1)"
      ]
     },
     "execution_count": 20,
     "metadata": {},
     "output_type": "execute_result"
    }
   ],
   "source": [
    "Xa.shape"
   ]
  },
  {
   "cell_type": "code",
   "execution_count": 21,
   "metadata": {},
   "outputs": [],
   "source": [
    "Xa= Xa.reshape(Xa.shape[0], 30, 30, -1, 1)"
   ]
  },
  {
   "cell_type": "code",
   "execution_count": 22,
   "metadata": {},
   "outputs": [],
   "source": [
    "from sklearn.model_selection import train_test_split\n",
    "# split again, and we should see the same split\n",
    "Xa_train, Xa_test, ya_train, ya_test = train_test_split(Xa, ya, test_size=0.3, random_state=1)"
   ]
  },
  {
   "cell_type": "code",
   "execution_count": 23,
   "metadata": {},
   "outputs": [
    {
     "name": "stdout",
     "output_type": "stream",
     "text": [
      "Test loss: 0.12795931738633107 / Test accuracy: 0.976802823553167\n"
     ]
    }
   ],
   "source": [
    "# Generate generalization metrics\n",
    "score0 = model.evaluate( Xa_test, ya_test, verbose=0)\n",
    "print(f'Test loss: {score[0]} / Test accuracy: {score[1]}')"
   ]
  },
  {
   "cell_type": "code",
   "execution_count": 24,
   "metadata": {},
   "outputs": [],
   "source": [
    "y_pred0 = model.predict(Xa_test)\n",
    "y_pred0  = y_pred0.argmax(axis=-1)"
   ]
  },
  {
   "cell_type": "code",
   "execution_count": 25,
   "metadata": {},
   "outputs": [
    {
     "name": "stdout",
     "output_type": "stream",
     "text": [
      "Confusion Matrix\n",
      "\n",
      "[[3 0 0 ... 0 0 0]\n",
      " [0 1 0 ... 0 0 0]\n",
      " [0 0 4 ... 0 0 0]\n",
      " ...\n",
      " [0 0 0 ... 2 0 0]\n",
      " [0 0 0 ... 0 3 0]\n",
      " [0 0 0 ... 0 0 3]]\n",
      "\n",
      "Accuracy: 0.96\n",
      "\n"
     ]
    }
   ],
   "source": [
    "#importing confusion matrix\n",
    "from sklearn.metrics import confusion_matrix\n",
    "confusion = confusion_matrix(ya_test, y_pred0 )\n",
    "print('Confusion Matrix\\n')\n",
    "print(confusion)\n",
    "#importing accuracy_score, precision_score, recall_score, f1_score\n",
    "from sklearn.metrics import accuracy_score, precision_score, recall_score, f1_score\n",
    "print('\\nAccuracy: {:.2f}\\n'.format(accuracy_score(ya_test, y_pred0)))"
   ]
  },
  {
   "cell_type": "code",
   "execution_count": 26,
   "metadata": {},
   "outputs": [
    {
     "name": "stdout",
     "output_type": "stream",
     "text": [
      "Micro Precision: 0.96\n",
      "Micro Recall: 0.96\n",
      "Micro F1-score: 0.96\n",
      "\n",
      "Macro Precision: 0.96\n",
      "Macro Recall: 0.97\n",
      "Macro F1-score: 0.96\n",
      "\n",
      "Weighted Precision: 0.97\n",
      "Weighted Recall: 0.96\n",
      "Weighted F1-score: 0.96\n"
     ]
    },
    {
     "name": "stderr",
     "output_type": "stream",
     "text": [
      "C:\\Users\\Hp\\Anaconda3\\envs\\Titanium\\lib\\site-packages\\sklearn\\metrics\\_classification.py:1272: UndefinedMetricWarning:\n",
      "\n",
      "Precision is ill-defined and being set to 0.0 in labels with no predicted samples. Use `zero_division` parameter to control this behavior.\n",
      "\n"
     ]
    }
   ],
   "source": [
    "print('Micro Precision: {:.2f}'.format(precision_score(ya_test, y_pred0, average='micro')))\n",
    "print('Micro Recall: {:.2f}'.format(recall_score(ya_test, y_pred0, average='micro')))\n",
    "print('Micro F1-score: {:.2f}\\n'.format(f1_score(ya_test, y_pred0, average='micro')))\n",
    "\n",
    "print('Macro Precision: {:.2f}'.format(precision_score(ya_test, y_pred0, average='macro')))\n",
    "print('Macro Recall: {:.2f}'.format(recall_score(ya_test, y_pred0, average='macro')))\n",
    "print('Macro F1-score: {:.2f}\\n'.format(f1_score(ya_test, y_pred0, average='macro')))\n",
    "\n",
    "print('Weighted Precision: {:.2f}'.format(precision_score(ya_test, y_pred0, average='weighted')))\n",
    "print('Weighted Recall: {:.2f}'.format(recall_score(ya_test, y_pred0, average='weighted')))\n",
    "print('Weighted F1-score: {:.2f}'.format(f1_score(ya_test, y_pred0, average='weighted')))"
   ]
  },
  {
   "cell_type": "code",
   "execution_count": 27,
   "metadata": {},
   "outputs": [
    {
     "name": "stdout",
     "output_type": "stream",
     "text": [
      "\n",
      "Classification Report\n",
      "\n",
      "              precision    recall  f1-score   support\n",
      "\n",
      "           0       1.00      1.00      1.00         3\n",
      "           1       1.00      1.00      1.00         1\n",
      "           2       1.00      1.00      1.00         4\n",
      "           3       1.00      1.00      1.00         4\n",
      "           5       1.00      1.00      1.00         2\n",
      "           6       1.00      1.00      1.00         3\n",
      "           7       1.00      1.00      1.00         2\n",
      "           8       1.00      1.00      1.00         3\n",
      "           9       1.00      1.00      1.00         3\n",
      "          10       1.00      1.00      1.00         2\n",
      "          11       1.00      0.62      0.77         8\n",
      "          12       1.00      0.25      0.40         4\n",
      "          13       0.40      1.00      0.57         2\n",
      "          14       1.00      1.00      1.00         6\n",
      "          15       0.00      0.00      0.00         4\n",
      "          16       0.56      1.00      0.71         5\n",
      "          17       1.00      1.00      1.00         3\n",
      "          18       1.00      1.00      1.00         4\n",
      "          19       1.00      1.00      1.00         3\n",
      "          20       1.00      1.00      1.00         3\n",
      "          21       1.00      1.00      1.00         4\n",
      "          22       1.00      1.00      1.00         5\n",
      "          23       1.00      1.00      1.00         2\n",
      "          25       1.00      1.00      1.00         1\n",
      "          26       1.00      1.00      1.00         4\n",
      "          27       1.00      1.00      1.00         1\n",
      "          29       1.00      1.00      1.00         4\n",
      "          30       1.00      1.00      1.00         1\n",
      "          31       1.00      1.00      1.00         4\n",
      "          32       1.00      1.00      1.00         2\n",
      "          33       1.00      1.00      1.00         1\n",
      "          34       1.00      1.00      1.00         5\n",
      "          35       1.00      1.00      1.00         2\n",
      "          36       1.00      1.00      1.00         3\n",
      "          37       1.00      1.00      1.00         3\n",
      "          38       1.00      1.00      1.00         5\n",
      "          39       1.00      1.00      1.00         4\n",
      "          40       1.00      1.00      1.00         4\n",
      "          41       0.50      1.00      0.67         1\n",
      "          42       1.00      1.00      1.00         5\n",
      "          43       1.00      1.00      1.00         4\n",
      "          44       1.00      1.00      1.00         2\n",
      "          45       1.00      1.00      1.00         6\n",
      "          46       1.00      1.00      1.00         2\n",
      "          47       1.00      1.00      1.00         2\n",
      "          48       1.00      1.00      1.00         4\n",
      "          49       1.00      1.00      1.00         2\n",
      "          50       1.00      1.00      1.00         3\n",
      "          51       1.00      1.00      1.00         4\n",
      "          52       1.00      1.00      1.00         1\n",
      "          53       1.00      1.00      1.00         5\n",
      "          54       1.00      1.00      1.00         4\n",
      "          55       1.00      1.00      1.00         1\n",
      "          56       1.00      1.00      1.00         4\n",
      "          57       1.00      1.00      1.00         1\n",
      "          58       1.00      1.00      1.00         3\n",
      "          59       1.00      1.00      1.00         1\n",
      "          60       1.00      1.00      1.00         2\n",
      "          61       1.00      1.00      1.00         2\n",
      "          62       1.00      1.00      1.00         2\n",
      "          63       1.00      1.00      1.00         4\n",
      "          64       1.00      1.00      1.00         3\n",
      "          65       1.00      1.00      1.00         2\n",
      "          66       1.00      1.00      1.00         1\n",
      "          67       1.00      1.00      1.00         2\n",
      "          68       1.00      1.00      1.00         1\n",
      "          69       1.00      1.00      1.00         4\n",
      "          70       1.00      1.00      1.00         3\n",
      "          71       1.00      1.00      1.00         2\n",
      "          72       1.00      1.00      1.00         5\n",
      "          73       1.00      0.80      0.89         5\n",
      "          74       1.00      1.00      1.00         3\n",
      "          75       1.00      1.00      1.00         1\n",
      "          76       1.00      1.00      1.00         4\n",
      "          77       1.00      1.00      1.00         2\n",
      "          78       0.50      1.00      0.67         2\n",
      "          79       0.00      0.00      0.00         2\n",
      "          80       1.00      1.00      1.00         2\n",
      "          81       1.00      1.00      1.00         2\n",
      "          82       1.00      1.00      1.00         2\n",
      "          83       1.00      1.00      1.00         4\n",
      "          84       1.00      1.00      1.00         4\n",
      "          85       1.00      1.00      1.00         3\n",
      "          86       1.00      1.00      1.00         2\n",
      "          87       1.00      1.00      1.00         2\n",
      "          88       1.00      1.00      1.00         3\n",
      "          89       1.00      1.00      1.00         4\n",
      "          90       1.00      1.00      1.00         3\n",
      "          91       1.00      1.00      1.00         4\n",
      "          92       1.00      1.00      1.00         4\n",
      "          93       1.00      1.00      1.00         6\n",
      "          94       1.00      1.00      1.00         4\n",
      "          95       1.00      1.00      1.00         4\n",
      "          96       1.00      1.00      1.00         4\n",
      "          97       1.00      1.00      1.00         2\n",
      "          99       1.00      1.00      1.00         3\n",
      "         100       1.00      1.00      1.00         1\n",
      "         101       1.00      1.00      1.00         6\n",
      "         102       1.00      1.00      1.00         2\n",
      "         103       1.00      1.00      1.00         3\n",
      "         104       1.00      1.00      1.00         3\n",
      "         105       1.00      1.00      1.00         5\n",
      "         106       1.00      1.00      1.00         5\n",
      "         107       1.00      1.00      1.00         3\n",
      "         108       1.00      1.00      1.00         2\n",
      "         109       1.00      1.00      1.00         3\n",
      "         110       1.00      1.00      1.00         1\n",
      "         111       0.25      1.00      0.40         1\n",
      "         112       1.00      1.00      1.00         1\n",
      "         113       1.00      1.00      1.00         4\n",
      "         114       1.00      1.00      1.00         2\n",
      "         115       1.00      1.00      1.00         3\n",
      "         116       1.00      1.00      1.00         4\n",
      "         117       1.00      1.00      1.00         5\n",
      "         118       1.00      1.00      1.00         2\n",
      "         119       1.00      1.00      1.00         3\n",
      "         120       1.00      1.00      1.00         3\n",
      "         121       1.00      1.00      1.00         2\n",
      "         122       1.00      1.00      1.00         3\n",
      "         123       1.00      1.00      1.00         3\n",
      "\n",
      "    accuracy                           0.96       363\n",
      "   macro avg       0.96      0.97      0.96       363\n",
      "weighted avg       0.97      0.96      0.96       363\n",
      "\n"
     ]
    },
    {
     "name": "stderr",
     "output_type": "stream",
     "text": [
      "C:\\Users\\Hp\\Anaconda3\\envs\\Titanium\\lib\\site-packages\\sklearn\\metrics\\_classification.py:1272: UndefinedMetricWarning:\n",
      "\n",
      "Precision and F-score are ill-defined and being set to 0.0 in labels with no predicted samples. Use `zero_division` parameter to control this behavior.\n",
      "\n"
     ]
    }
   ],
   "source": [
    "from sklearn.metrics import classification_report\n",
    "print('\\nClassification Report\\n')\n",
    "print(classification_report(ya_test, y_pred0))"
   ]
  },
  {
   "cell_type": "markdown",
   "metadata": {},
   "source": [
    "# CCR For Angle 18"
   ]
  },
  {
   "cell_type": "code",
   "execution_count": 28,
   "metadata": {},
   "outputs": [],
   "source": [
    "pickle_in = open(\"X_18a.pickle\",\"rb\")\n",
    "X18 = pickle.load(pickle_in)\n",
    "\n",
    "pickle_in = open(\"y_18a.pickle\",\"rb\")\n",
    "y18 = pickle.load(pickle_in)\n",
    "num_classes=124\n",
    "X18 = X18/255.0\n",
    "\n",
    "y18=np.array(y18)"
   ]
  },
  {
   "cell_type": "code",
   "execution_count": 29,
   "metadata": {},
   "outputs": [],
   "source": [
    "X18= X18.reshape(X18.shape[0], 30, 30, -1, 1)"
   ]
  },
  {
   "cell_type": "code",
   "execution_count": 30,
   "metadata": {},
   "outputs": [],
   "source": [
    "from sklearn.model_selection import train_test_split\n",
    "# split again, and we should see the same split\n",
    "X18_train, X18_test, y18_train, y18_test = train_test_split(X18, y18, test_size=0.3, random_state=1)"
   ]
  },
  {
   "cell_type": "code",
   "execution_count": 31,
   "metadata": {},
   "outputs": [
    {
     "name": "stdout",
     "output_type": "stream",
     "text": [
      "Test loss: 0.004058114788712077 / Test accuracy: 1.0\n"
     ]
    }
   ],
   "source": [
    "# Generate generalization metrics\n",
    "score = model.evaluate( X18_test, y18_test, verbose=0)\n",
    "print(f'Test loss: {score[0]} / Test accuracy: {score[1]}')"
   ]
  },
  {
   "cell_type": "code",
   "execution_count": 32,
   "metadata": {},
   "outputs": [],
   "source": [
    "y_pred18 = model.predict( X18_test)\n",
    "y_pred18 = y_pred18.argmax(axis=-1)"
   ]
  },
  {
   "cell_type": "code",
   "execution_count": 33,
   "metadata": {},
   "outputs": [
    {
     "name": "stdout",
     "output_type": "stream",
     "text": [
      "Confusion Matrix\n",
      "\n",
      "[[3 0 0 ... 0 0 0]\n",
      " [0 3 0 ... 0 0 0]\n",
      " [0 0 4 ... 0 0 0]\n",
      " ...\n",
      " [0 0 0 ... 6 0 0]\n",
      " [0 0 0 ... 0 3 0]\n",
      " [0 0 0 ... 0 0 2]]\n"
     ]
    }
   ],
   "source": [
    "#importing confusion matrix\n",
    "from sklearn.metrics import confusion_matrix\n",
    "confusion = confusion_matrix(y18_test,y_pred18)\n",
    "print('Confusion Matrix\\n')\n",
    "print(confusion)"
   ]
  },
  {
   "cell_type": "code",
   "execution_count": 34,
   "metadata": {},
   "outputs": [
    {
     "name": "stdout",
     "output_type": "stream",
     "text": [
      "\n",
      "Accuracy: 1.00\n",
      "\n"
     ]
    }
   ],
   "source": [
    "#importing accuracy_score, precision_score, recall_score, f1_score\n",
    "from sklearn.metrics import accuracy_score, precision_score, recall_score, f1_score\n",
    "print('\\nAccuracy: {:.2f}\\n'.format(accuracy_score(y18_test, y_pred18)))"
   ]
  },
  {
   "cell_type": "markdown",
   "metadata": {},
   "source": [
    "# CCR For Angle 36"
   ]
  },
  {
   "cell_type": "code",
   "execution_count": 35,
   "metadata": {},
   "outputs": [],
   "source": [
    "pickle_in = open(\"X_36a.pickle\",\"rb\")\n",
    "X36 = pickle.load(pickle_in)\n",
    "\n",
    "pickle_in = open(\"y_36a.pickle\",\"rb\")\n",
    "y36 = pickle.load(pickle_in)\n",
    "num_classes=124\n",
    "X36 = X36/255.0\n",
    "\n",
    "y36=np.array(y36)"
   ]
  },
  {
   "cell_type": "code",
   "execution_count": 36,
   "metadata": {},
   "outputs": [],
   "source": [
    "X36= X36.reshape(X36.shape[0], 30, 30, -1, 1)"
   ]
  },
  {
   "cell_type": "code",
   "execution_count": 37,
   "metadata": {},
   "outputs": [],
   "source": [
    "from sklearn.model_selection import train_test_split\n",
    "# split again, and we should see the same split\n",
    "X36_train, X36_test, y36_train, y36_test = train_test_split(X36, y36, test_size=0.3, random_state=1)"
   ]
  },
  {
   "cell_type": "code",
   "execution_count": 38,
   "metadata": {},
   "outputs": [
    {
     "name": "stdout",
     "output_type": "stream",
     "text": [
      "Test loss: 0.01636376516236886 / Test accuracy: 0.9917355371900827\n"
     ]
    }
   ],
   "source": [
    "# Generate generalization metrics\n",
    "score = model.evaluate( X36_test, y36_test, verbose=0)\n",
    "print(f'Test loss: {score[0]} / Test accuracy: {score[1]}')"
   ]
  },
  {
   "cell_type": "code",
   "execution_count": 39,
   "metadata": {},
   "outputs": [],
   "source": [
    "y_pred36 = model.predict( X36_test)\n",
    "y_pred36 = y_pred36.argmax(axis=-1)\n"
   ]
  },
  {
   "cell_type": "code",
   "execution_count": 40,
   "metadata": {},
   "outputs": [
    {
     "name": "stdout",
     "output_type": "stream",
     "text": [
      "Confusion Matrix\n",
      "\n",
      "[[1 0 0 ... 0 0 0]\n",
      " [0 1 0 ... 0 0 0]\n",
      " [0 0 2 ... 0 0 0]\n",
      " ...\n",
      " [0 0 0 ... 2 0 0]\n",
      " [0 0 0 ... 0 2 0]\n",
      " [0 0 0 ... 0 0 1]]\n",
      "\n",
      "Accuracy: 0.99\n",
      "\n"
     ]
    }
   ],
   "source": [
    "#importing confusion matrix\n",
    "from sklearn.metrics import confusion_matrix\n",
    "confusion = confusion_matrix(y36_test, y_pred36)\n",
    "print('Confusion Matrix\\n')\n",
    "print(confusion)\n",
    "#importing accuracy_score, precision_score, recall_score, f1_score\n",
    "from sklearn.metrics import accuracy_score, precision_score, recall_score, f1_score\n",
    "print('\\nAccuracy: {:.2f}\\n'.format(accuracy_score(y36_test, y_pred36)))"
   ]
  },
  {
   "cell_type": "markdown",
   "metadata": {},
   "source": [
    "# CCR For Angle 54"
   ]
  },
  {
   "cell_type": "code",
   "execution_count": 41,
   "metadata": {},
   "outputs": [],
   "source": [
    "pickle_in = open(\"X_54a.pickle\",\"rb\")\n",
    "X54 = pickle.load(pickle_in)\n",
    "\n",
    "pickle_in = open(\"y_54a.pickle\",\"rb\")\n",
    "y54 = pickle.load(pickle_in)\n",
    "num_classes=124\n",
    "X54 = X54/255.0\n",
    "\n",
    "y54=np.array(y54)"
   ]
  },
  {
   "cell_type": "code",
   "execution_count": 42,
   "metadata": {},
   "outputs": [],
   "source": [
    "X54= X54.reshape(X54.shape[0], 30, 30, -1, 1)"
   ]
  },
  {
   "cell_type": "code",
   "execution_count": 43,
   "metadata": {},
   "outputs": [],
   "source": [
    "from sklearn.model_selection import train_test_split\n",
    "# split again, and we should see the same split\n",
    "X54_train, X54_test, y54_train, y54_test = train_test_split(X54, y54, test_size=0.3, random_state=5)"
   ]
  },
  {
   "cell_type": "code",
   "execution_count": 44,
   "metadata": {},
   "outputs": [
    {
     "name": "stdout",
     "output_type": "stream",
     "text": [
      "Test loss: 0.047857657824125176 / Test accuracy: 0.9944598337950139\n"
     ]
    }
   ],
   "source": [
    "# Generate generalization metrics\n",
    "score = model.evaluate( X54_test, y54_test, verbose=0)\n",
    "print(f'Test loss: {score[0]} / Test accuracy: {score[1]}')"
   ]
  },
  {
   "cell_type": "code",
   "execution_count": 45,
   "metadata": {},
   "outputs": [],
   "source": [
    "y_pred54 = model.predict( X54_test)\n",
    "y_pred54 = y_pred54.argmax(axis=-1)\n"
   ]
  },
  {
   "cell_type": "code",
   "execution_count": 46,
   "metadata": {},
   "outputs": [
    {
     "name": "stdout",
     "output_type": "stream",
     "text": [
      "Confusion Matrix\n",
      "\n",
      "[[5 0 0 ... 0 0 0]\n",
      " [0 1 0 ... 0 0 0]\n",
      " [0 0 3 ... 0 0 0]\n",
      " ...\n",
      " [0 0 0 ... 5 0 0]\n",
      " [0 0 0 ... 0 1 0]\n",
      " [0 0 0 ... 0 0 1]]\n",
      "\n",
      "Accuracy: 0.99\n",
      "\n"
     ]
    }
   ],
   "source": [
    "#importing confusion matrix\n",
    "from sklearn.metrics import confusion_matrix\n",
    "confusion = confusion_matrix(y54_test, y_pred54)\n",
    "print('Confusion Matrix\\n')\n",
    "print(confusion)\n",
    "#importing accuracy_score, precision_score, recall_score, f1_score\n",
    "from sklearn.metrics import accuracy_score, precision_score, recall_score, f1_score\n",
    "print('\\nAccuracy: {:.2f}\\n'.format(accuracy_score(y54_test, y_pred54)))"
   ]
  },
  {
   "cell_type": "markdown",
   "metadata": {},
   "source": [
    "# CCR For Angle 72"
   ]
  },
  {
   "cell_type": "code",
   "execution_count": 47,
   "metadata": {},
   "outputs": [],
   "source": [
    "pickle_in = open(\"X_72a.pickle\",\"rb\")\n",
    "X72 = pickle.load(pickle_in)\n",
    "\n",
    "pickle_in = open(\"y_72a.pickle\",\"rb\")\n",
    "y72 = pickle.load(pickle_in)\n",
    "num_classes=124\n",
    "X72 = X72/255.0\n",
    "\n",
    "y72=np.array(y72)"
   ]
  },
  {
   "cell_type": "code",
   "execution_count": 48,
   "metadata": {},
   "outputs": [],
   "source": [
    "X72= X72.reshape(X72.shape[0], 30, 30, -1, 1)"
   ]
  },
  {
   "cell_type": "code",
   "execution_count": 49,
   "metadata": {},
   "outputs": [],
   "source": [
    "from sklearn.model_selection import train_test_split\n",
    "# split again, and we should see the same split\n",
    "X72_train, X72_test, y72_train, y72_test = train_test_split(X72, y72, test_size=0.3, random_state=1)"
   ]
  },
  {
   "cell_type": "code",
   "execution_count": 50,
   "metadata": {},
   "outputs": [
    {
     "name": "stdout",
     "output_type": "stream",
     "text": [
      "Test loss: 0.02338896364947313 / Test accuracy: 0.9944903581267218\n"
     ]
    }
   ],
   "source": [
    "# Generate generalization metrics\n",
    "score = model.evaluate( X72_test, y72_test, verbose=0)\n",
    "print(f'Test loss: {score[0]} / Test accuracy: {score[1]}')"
   ]
  },
  {
   "cell_type": "code",
   "execution_count": 51,
   "metadata": {},
   "outputs": [],
   "source": [
    "y_pred72 = model.predict( X72_test)\n",
    "y_pred72 = y_pred72.argmax(axis=-1)"
   ]
  },
  {
   "cell_type": "code",
   "execution_count": 52,
   "metadata": {},
   "outputs": [
    {
     "name": "stdout",
     "output_type": "stream",
     "text": [
      "Confusion Matrix\n",
      "\n",
      "[[2 0 0 ... 0 0 0]\n",
      " [0 1 0 ... 0 0 0]\n",
      " [0 0 5 ... 0 0 0]\n",
      " ...\n",
      " [0 0 0 ... 6 0 0]\n",
      " [0 0 0 ... 0 6 0]\n",
      " [0 0 0 ... 0 0 2]]\n",
      "\n",
      "Accuracy: 0.99\n",
      "\n"
     ]
    }
   ],
   "source": [
    "#importing confusion matrix\n",
    "from sklearn.metrics import confusion_matrix\n",
    "confusion = confusion_matrix(y72_test,y_pred72)\n",
    "print('Confusion Matrix\\n')\n",
    "print(confusion)\n",
    "#importing accuracy_score, precision_score, recall_score, f1_score\n",
    "from sklearn.metrics import accuracy_score, precision_score, recall_score, f1_score\n",
    "print('\\nAccuracy: {:.2f}\\n'.format(accuracy_score(y72_test,y_pred72)))"
   ]
  },
  {
   "cell_type": "markdown",
   "metadata": {},
   "source": [
    "# CCR For Angle 90"
   ]
  },
  {
   "cell_type": "code",
   "execution_count": 53,
   "metadata": {},
   "outputs": [],
   "source": [
    "pickle_in = open(\"X_90a.pickle\",\"rb\")\n",
    "X90 = pickle.load(pickle_in)\n",
    "\n",
    "pickle_in = open(\"y_90a.pickle\",\"rb\")\n",
    "y90 = pickle.load(pickle_in)\n",
    "num_classes=124\n",
    "X90 = X90/255.0\n",
    "\n",
    "y90=np.array(y90)"
   ]
  },
  {
   "cell_type": "code",
   "execution_count": 54,
   "metadata": {},
   "outputs": [],
   "source": [
    "X90= X90.reshape(X90.shape[0], 30, 30, -1, 1)"
   ]
  },
  {
   "cell_type": "code",
   "execution_count": 55,
   "metadata": {},
   "outputs": [],
   "source": [
    "from sklearn.model_selection import train_test_split\n",
    "# split again, and we should see the same split\n",
    "X90_train, X90_test, y90_train, y90_test = train_test_split(X90, y90, test_size=0.3,random_state=2)"
   ]
  },
  {
   "cell_type": "code",
   "execution_count": 56,
   "metadata": {},
   "outputs": [
    {
     "name": "stdout",
     "output_type": "stream",
     "text": [
      "Test loss: 0.07911341942630962 / Test accuracy: 0.9862258953168044\n"
     ]
    }
   ],
   "source": [
    "# Generate generalization metrics\n",
    "score = model.evaluate( X90_test, y90_test, verbose=0)\n",
    "print(f'Test loss: {score[0]} / Test accuracy: {score[1]}')"
   ]
  },
  {
   "cell_type": "code",
   "execution_count": 57,
   "metadata": {},
   "outputs": [],
   "source": [
    "y_pred90 = model.predict( X90_test)\n",
    "y_pred90 = y_pred90.argmax(axis=-1)\n"
   ]
  },
  {
   "cell_type": "code",
   "execution_count": 58,
   "metadata": {},
   "outputs": [
    {
     "name": "stdout",
     "output_type": "stream",
     "text": [
      "Confusion Matrix\n",
      "\n",
      "[[1 0 0 ... 0 0 0]\n",
      " [0 3 0 ... 0 0 0]\n",
      " [0 0 4 ... 0 0 0]\n",
      " ...\n",
      " [0 0 0 ... 2 0 0]\n",
      " [0 0 0 ... 0 3 0]\n",
      " [0 0 0 ... 0 0 2]]\n",
      "\n",
      "Accuracy: 0.99\n",
      "\n"
     ]
    }
   ],
   "source": [
    "#importing confusion matrix\n",
    "from sklearn.metrics import confusion_matrix\n",
    "confusion = confusion_matrix(y90_test, y_pred90)\n",
    "print('Confusion Matrix\\n')\n",
    "print(confusion)\n",
    "#importing accuracy_score, precision_score, recall_score, f1_score\n",
    "from sklearn.metrics import accuracy_score, precision_score, recall_score, f1_score\n",
    "print('\\nAccuracy: {:.2f}\\n'.format(accuracy_score(y90_test, y_pred90)))"
   ]
  },
  {
   "cell_type": "markdown",
   "metadata": {},
   "source": [
    "# CCR For Angle 108"
   ]
  },
  {
   "cell_type": "code",
   "execution_count": 59,
   "metadata": {},
   "outputs": [],
   "source": [
    "pickle_in = open(\"X_108a.pickle\",\"rb\")\n",
    "X108 = pickle.load(pickle_in)\n",
    "\n",
    "pickle_in = open(\"y_108a.pickle\",\"rb\")\n",
    "y108= pickle.load(pickle_in)\n",
    "num_classes=124\n",
    "X108 = X108/255.0\n",
    "\n",
    "y108=np.array(y108)"
   ]
  },
  {
   "cell_type": "code",
   "execution_count": 60,
   "metadata": {},
   "outputs": [],
   "source": [
    "X108= X108.reshape(X108.shape[0], 30, 30, -1, 1)"
   ]
  },
  {
   "cell_type": "code",
   "execution_count": 61,
   "metadata": {},
   "outputs": [],
   "source": [
    "from sklearn.model_selection import train_test_split\n",
    "# split again, and we should see the same split\n",
    "X108_train, X108_test, y108_train, y108_test = train_test_split(X108, y108, test_size=0.3, random_state=2)"
   ]
  },
  {
   "cell_type": "code",
   "execution_count": 62,
   "metadata": {},
   "outputs": [
    {
     "name": "stdout",
     "output_type": "stream",
     "text": [
      "Test loss: 0.5002295376403575 / Test accuracy: 0.9539295396184534\n"
     ]
    }
   ],
   "source": [
    "# Generate generalization metrics\n",
    "score = model.evaluate( X108_test, y108_test, verbose=0)\n",
    "print(f'Test loss: {score[0]} / Test accuracy: {score[1]}')"
   ]
  },
  {
   "cell_type": "code",
   "execution_count": 63,
   "metadata": {},
   "outputs": [],
   "source": [
    "y_pred108 = model.predict( X108_test)\n",
    "y_pred108 = y_pred108.argmax(axis=-1)\n"
   ]
  },
  {
   "cell_type": "code",
   "execution_count": 64,
   "metadata": {},
   "outputs": [
    {
     "name": "stdout",
     "output_type": "stream",
     "text": [
      "Confusion Matrix\n",
      "\n",
      "[[3 0 0 ... 0 0 0]\n",
      " [0 6 0 ... 0 0 0]\n",
      " [0 0 2 ... 0 0 0]\n",
      " ...\n",
      " [0 0 0 ... 4 0 0]\n",
      " [0 0 0 ... 0 1 0]\n",
      " [0 0 0 ... 0 0 5]]\n",
      "\n",
      "Accuracy: 0.95\n",
      "\n"
     ]
    }
   ],
   "source": [
    "#importing confusion matrix\n",
    "from sklearn.metrics import confusion_matrix\n",
    "confusion = confusion_matrix(y108_test, y_pred108)\n",
    "print('Confusion Matrix\\n')\n",
    "print(confusion)\n",
    "#importing accuracy_score, precision_score, recall_score, f1_score\n",
    "from sklearn.metrics import accuracy_score, precision_score, recall_score, f1_score\n",
    "print('\\nAccuracy: {:.2f}\\n'.format(accuracy_score(y108_test, y_pred108)))"
   ]
  },
  {
   "cell_type": "markdown",
   "metadata": {},
   "source": [
    "# CCR For Angle 126"
   ]
  },
  {
   "cell_type": "code",
   "execution_count": 65,
   "metadata": {},
   "outputs": [],
   "source": [
    "pickle_in = open(\"X_126a.pickle\",\"rb\")\n",
    "X126 = pickle.load(pickle_in)\n",
    "\n",
    "pickle_in = open(\"y_126a.pickle\",\"rb\")\n",
    "y126= pickle.load(pickle_in)\n",
    "num_classes=124\n",
    "X126 = X126/255.0\n",
    "\n",
    "y126=np.array(y126)"
   ]
  },
  {
   "cell_type": "code",
   "execution_count": 66,
   "metadata": {},
   "outputs": [],
   "source": [
    "X126= X126.reshape(X126.shape[0], 30, 30, -1, 1)"
   ]
  },
  {
   "cell_type": "code",
   "execution_count": 67,
   "metadata": {},
   "outputs": [],
   "source": [
    "from sklearn.model_selection import train_test_split\n",
    "# split again, and we should see the same split\n",
    "X126_train, X126_test, y126_train, y126_test = train_test_split(X126, y126, test_size=0.3, random_state=2)"
   ]
  },
  {
   "cell_type": "code",
   "execution_count": 68,
   "metadata": {},
   "outputs": [
    {
     "name": "stdout",
     "output_type": "stream",
     "text": [
      "Test loss: 0.017074565112691037 / Test accuracy: 0.9916666666666667\n"
     ]
    }
   ],
   "source": [
    "# Generate generalization metrics\n",
    "score = model.evaluate( X126_test, y126_test, verbose=0)\n",
    "print(f'Test loss: {score[0]} / Test accuracy: {score[1]}')"
   ]
  },
  {
   "cell_type": "code",
   "execution_count": 69,
   "metadata": {},
   "outputs": [],
   "source": [
    "y_pred126 = model.predict( X126_test)\n",
    "y_pred126 = y_pred126.argmax(axis=-1)\n"
   ]
  },
  {
   "cell_type": "code",
   "execution_count": 70,
   "metadata": {},
   "outputs": [
    {
     "name": "stdout",
     "output_type": "stream",
     "text": [
      "Confusion Matrix\n",
      "\n",
      "[[3 0 0 ... 0 0 0]\n",
      " [0 1 0 ... 0 0 0]\n",
      " [0 0 1 ... 0 0 0]\n",
      " ...\n",
      " [0 0 0 ... 3 0 0]\n",
      " [0 0 0 ... 0 5 0]\n",
      " [0 0 0 ... 0 0 5]]\n",
      "\n",
      "Accuracy: 0.99\n",
      "\n"
     ]
    }
   ],
   "source": [
    "#importing confusion matrix\n",
    "from sklearn.metrics import confusion_matrix\n",
    "confusion = confusion_matrix(y126_test, y_pred126)\n",
    "print('Confusion Matrix\\n')\n",
    "print(confusion)\n",
    "#importing accuracy_score, precision_score, recall_score, f1_score\n",
    "from sklearn.metrics import accuracy_score, precision_score, recall_score, f1_score\n",
    "print('\\nAccuracy: {:.2f}\\n'.format(accuracy_score(y126_test, y_pred126)))"
   ]
  },
  {
   "cell_type": "markdown",
   "metadata": {},
   "source": [
    "# CCR For Angle 144"
   ]
  },
  {
   "cell_type": "code",
   "execution_count": 71,
   "metadata": {},
   "outputs": [],
   "source": [
    "pickle_in = open(\"X_144a.pickle\",\"rb\")\n",
    "X144 = pickle.load(pickle_in)\n",
    "\n",
    "pickle_in = open(\"y_144a.pickle\",\"rb\")\n",
    "y144= pickle.load(pickle_in)\n",
    "num_classes=124\n",
    "X144 = X144/255.0\n",
    "\n",
    "y144=np.array(y144)"
   ]
  },
  {
   "cell_type": "code",
   "execution_count": 72,
   "metadata": {},
   "outputs": [],
   "source": [
    "X144= X144.reshape(X144.shape[0], 30, 30, -1, 1)"
   ]
  },
  {
   "cell_type": "code",
   "execution_count": 73,
   "metadata": {},
   "outputs": [],
   "source": [
    "from sklearn.model_selection import train_test_split\n",
    "# split again, and we should see the same split\n",
    "X144_train, X144_test, y144_train, y144_test = train_test_split(X144, y144, test_size=0.3, random_state=2)"
   ]
  },
  {
   "cell_type": "code",
   "execution_count": 74,
   "metadata": {},
   "outputs": [
    {
     "name": "stdout",
     "output_type": "stream",
     "text": [
      "Test loss: 0.1007831640367739 / Test accuracy: 0.9888888888888889\n"
     ]
    }
   ],
   "source": [
    "# Generate generalization metrics\n",
    "score = model.evaluate( X144_test, y144_test, verbose=0)\n",
    "print(f'Test loss: {score[0]} / Test accuracy: {score[1]}')"
   ]
  },
  {
   "cell_type": "code",
   "execution_count": 75,
   "metadata": {},
   "outputs": [],
   "source": [
    "y_pred144 = model.predict( X144_test)\n",
    "y_pred144 = y_pred144.argmax(axis=-1)"
   ]
  },
  {
   "cell_type": "code",
   "execution_count": 76,
   "metadata": {},
   "outputs": [
    {
     "name": "stdout",
     "output_type": "stream",
     "text": [
      "Confusion Matrix\n",
      "\n",
      "[[3 0 0 ... 0 0 0]\n",
      " [0 3 0 ... 0 0 0]\n",
      " [0 0 3 ... 0 0 0]\n",
      " ...\n",
      " [0 0 0 ... 3 0 0]\n",
      " [0 0 0 ... 0 3 0]\n",
      " [0 0 0 ... 0 0 3]]\n",
      "\n",
      "Accuracy: 0.99\n",
      "\n"
     ]
    }
   ],
   "source": [
    "#importing confusion matrix\n",
    "from sklearn.metrics import confusion_matrix\n",
    "confusion = confusion_matrix(y144_test, y_pred144 )\n",
    "print('Confusion Matrix\\n')\n",
    "print(confusion)\n",
    "#importing accuracy_score, precision_score, recall_score, f1_score\n",
    "from sklearn.metrics import accuracy_score, precision_score, recall_score, f1_score\n",
    "print('\\nAccuracy: {:.2f}\\n'.format(accuracy_score(y144_test, y_pred144)))"
   ]
  },
  {
   "cell_type": "markdown",
   "metadata": {},
   "source": [
    "# CCR For Angle 162"
   ]
  },
  {
   "cell_type": "code",
   "execution_count": 77,
   "metadata": {},
   "outputs": [],
   "source": [
    "pickle_in = open(\"X_162a.pickle\",\"rb\")\n",
    "X162 = pickle.load(pickle_in)\n",
    "\n",
    "pickle_in = open(\"y_162a.pickle\",\"rb\")\n",
    "y162= pickle.load(pickle_in)\n",
    "num_classes=124\n",
    "X162 = X162/255.0\n",
    "\n",
    "y162=np.array(y162)"
   ]
  },
  {
   "cell_type": "code",
   "execution_count": 78,
   "metadata": {},
   "outputs": [],
   "source": [
    "X162= X162.reshape(X162.shape[0], 30, 30, -1, 1)"
   ]
  },
  {
   "cell_type": "code",
   "execution_count": 79,
   "metadata": {},
   "outputs": [],
   "source": [
    "from sklearn.model_selection import train_test_split\n",
    "# split again, and we should see the same split\n",
    "X162_train, X162_test, y162_train, y162_test = train_test_split(X162, y162, test_size=0.3, random_state=2)"
   ]
  },
  {
   "cell_type": "code",
   "execution_count": 80,
   "metadata": {},
   "outputs": [
    {
     "name": "stdout",
     "output_type": "stream",
     "text": [
      "Test loss: 0.012520021697676704 / Test accuracy: 0.9916201117318436\n"
     ]
    }
   ],
   "source": [
    "# Generate generalization metrics\n",
    "score = model.evaluate( X162_test, y162_test, verbose=0)\n",
    "print(f'Test loss: {score[0]} / Test accuracy: {score[1]}')"
   ]
  },
  {
   "cell_type": "code",
   "execution_count": 81,
   "metadata": {},
   "outputs": [
    {
     "name": "stdout",
     "output_type": "stream",
     "text": [
      "Confusion Matrix\n",
      "\n",
      "[[3 0 0 ... 0 0 0]\n",
      " [0 3 0 ... 0 0 0]\n",
      " [0 0 4 ... 0 0 0]\n",
      " ...\n",
      " [0 0 0 ... 6 0 0]\n",
      " [0 0 0 ... 0 3 0]\n",
      " [0 0 0 ... 0 0 2]]\n",
      "\n",
      "Accuracy: 1.00\n",
      "\n"
     ]
    }
   ],
   "source": [
    "y_pred = model.predict( X18_test)\n",
    "y_classes = y_pred.argmax(axis=-1)\n",
    "#importing confusion matrix\n",
    "from sklearn.metrics import confusion_matrix\n",
    "confusion = confusion_matrix(y18_test, y_classes)\n",
    "print('Confusion Matrix\\n')\n",
    "print(confusion)\n",
    "#importing accuracy_score, precision_score, recall_score, f1_score\n",
    "from sklearn.metrics import accuracy_score, precision_score, recall_score, f1_score\n",
    "print('\\nAccuracy: {:.2f}\\n'.format(accuracy_score(y18_test, y_classes)))"
   ]
  },
  {
   "cell_type": "markdown",
   "metadata": {},
   "source": [
    "# CCR For Angle 180"
   ]
  },
  {
   "cell_type": "code",
   "execution_count": 82,
   "metadata": {},
   "outputs": [],
   "source": [
    "pickle_in = open(\"X_180a.pickle\",\"rb\")\n",
    "X180 = pickle.load(pickle_in)\n",
    "\n",
    "pickle_in = open(\"y_180a.pickle\",\"rb\")\n",
    "y180= pickle.load(pickle_in)\n",
    "num_classes=124\n",
    "X180 = X180/255.0\n",
    "\n",
    "y180=np.array(y180)"
   ]
  },
  {
   "cell_type": "code",
   "execution_count": 83,
   "metadata": {},
   "outputs": [],
   "source": [
    "X180= X180.reshape(X180.shape[0], 30, 30, -1, 1)"
   ]
  },
  {
   "cell_type": "code",
   "execution_count": 84,
   "metadata": {},
   "outputs": [],
   "source": [
    "from sklearn.model_selection import train_test_split\n",
    "# split again, and we should see the same split\n",
    "X180_train, X180_test, y180_train, y180_test = train_test_split(X180, y180, test_size=0.3, random_state=1)"
   ]
  },
  {
   "cell_type": "code",
   "execution_count": 85,
   "metadata": {},
   "outputs": [
    {
     "name": "stdout",
     "output_type": "stream",
     "text": [
      "Test loss: 0.2506715303101033 / Test accuracy: 0.9697802197802198\n"
     ]
    }
   ],
   "source": [
    "# Generate generalization metrics\n",
    "score = model.evaluate( X180_test, y180_test, verbose=0)\n",
    "print(f'Test loss: {score[0]} / Test accuracy: {score[1]}')"
   ]
  },
  {
   "cell_type": "code",
   "execution_count": 86,
   "metadata": {},
   "outputs": [],
   "source": [
    "y_pred180 = model.predict( X180_test)\n",
    "y_pred180 = y_pred180.argmax(axis=-1)"
   ]
  },
  {
   "cell_type": "code",
   "execution_count": 87,
   "metadata": {},
   "outputs": [
    {
     "name": "stdout",
     "output_type": "stream",
     "text": [
      "Confusion Matrix\n",
      "\n",
      "[[2 0 0 ... 0 0 0]\n",
      " [0 4 0 ... 0 0 0]\n",
      " [0 0 3 ... 0 0 0]\n",
      " ...\n",
      " [0 0 0 ... 2 0 0]\n",
      " [0 0 0 ... 0 4 0]\n",
      " [0 0 0 ... 0 0 2]]\n",
      "\n",
      "Accuracy: 0.97\n",
      "\n"
     ]
    }
   ],
   "source": [
    "#importing confusion matrix\n",
    "from sklearn.metrics import confusion_matrix\n",
    "confusion = confusion_matrix(y180_test, y_pred180)\n",
    "print('Confusion Matrix\\n')\n",
    "print(confusion)\n",
    "#importing accuracy_score, precision_score, recall_score, f1_score\n",
    "from sklearn.metrics import accuracy_score, precision_score, recall_score, f1_score\n",
    "print('\\nAccuracy: {:.2f}\\n'.format(accuracy_score(y180_test, y_pred180)))"
   ]
  },
  {
   "cell_type": "markdown",
   "metadata": {},
   "source": [
    "# Learning Curves Visualization"
   ]
  },
  {
   "cell_type": "code",
   "execution_count": 88,
   "metadata": {},
   "outputs": [],
   "source": [
    "from keras.utils import to_categorical\n",
    "from keras import models\n",
    "from keras import layers\n",
    "from keras.callbacks import ModelCheckpoint, EarlyStopping\n",
    "import matplotlib.pyplot as plt"
   ]
  },
  {
   "cell_type": "code",
   "execution_count": 89,
   "metadata": {},
   "outputs": [],
   "source": [
    "def plot_loss(history, title):\n",
    "    plt.figure(figsize=(10,6))\n",
    "    fig, ax = plt.subplots(1, 1)  \n",
    "    ax.grid(b=True, which='major')\n",
    "    ax.grid(b=True, which='minor')\n",
    "    plt.plot(history.history['loss'], label='Train')\n",
    "    plt.plot(history.history['val_loss'], label='Validation')\n",
    "    plt.title(title)\n",
    "    plt.xlabel('Epochs')\n",
    "    plt.ylabel('Loss')\n",
    "    plt.legend()\n",
    "    \n",
    "    plt.minorticks_on()\n",
    "    plt.grid(b=True, which='minor', color='#999999', linestyle='-', alpha=0.2)\n",
    "    plt.show()\n",
    "    val_loss = history.history['val_loss']\n",
    "    min_idx = np.argmin(val_loss)\n",
    "    min_val_loss = val_loss[min_idx]\n",
    "    print('Minimum validation loss of {} reached at epoch {}'.format(min_val_loss, min_idx))"
   ]
  },
  {
   "cell_type": "code",
   "execution_count": 90,
   "metadata": {},
   "outputs": [],
   "source": [
    "def plot_acc(history, title):\n",
    "    plt.figure(figsize=(10,6))\n",
    "    fig, ax = plt.subplots(1, 1)  \n",
    "    ax.grid(b=True, which='major')\n",
    "    ax.grid(b=True, which='minor')\n",
    "    plt.plot(history.history['acc'], label='Train')\n",
    "    plt.plot(history.history['val_acc'], label='Validation')\n",
    "    plt.title(title)\n",
    "    plt.xlabel('Epochs')\n",
    "    plt.ylabel('Accuracy')\n",
    "    plt.legend()\n",
    "    plt.minorticks_on()\n",
    "    plt.grid(b=True, which='minor', color='#999999', linestyle='-', alpha=0.2)\n",
    "    plt.show()\n",
    "    \n",
    "    val_acc = history.history['val_acc']\n",
    "    max_idx = np.argmax(val_acc)\n",
    "    max_val_acc = val_acc[max_idx]\n",
    "    print('Maximum validation Acc of {} reached at epoch {}'.format(max_val_acc*100, max_idx))"
   ]
  },
  {
   "cell_type": "code",
   "execution_count": 91,
   "metadata": {},
   "outputs": [],
   "source": [
    "def plot_accall(history):\n",
    "    plt.figure(figsize=(10,6))\n",
    "    fig, ax = plt.subplots(1, 1)  \n",
    "    ax.grid(b=True, which='major')\n",
    "    ax.grid(b=True, which='minor')\n",
    "    plt.plot(history.history['acc'], label='Rank-1 Train')\n",
    "    plt.plot(history.history['val_acc'], label='Rank-1 Validation')\n",
    "    plt.plot(history.history['sparse_top_k_categorical_accuracy'], label='Rank-5 Train')\n",
    "    plt.plot(history.history['val_sparse_top_k_categorical_accuracy'], label='Rank-5 Validation')\n",
    "    \n",
    "    plt.xlabel('Epochs')\n",
    "    plt.ylabel('Accuracy')\n",
    "    plt.legend()\n",
    "    plt.minorticks_on()\n",
    "    plt.grid(b=True, which='minor', color='#999999', linestyle='-', alpha=0.2)\n",
    "    plt.show()"
   ]
  },
  {
   "cell_type": "code",
   "execution_count": 92,
   "metadata": {},
   "outputs": [],
   "source": [
    "def plot_kacc(history, title):\n",
    "    plt.figure(figsize=(10,5))\n",
    "    fig, ax = plt.subplots(1, 1)  \n",
    "    ax.grid(b=True, which='major')\n",
    "    ax.grid(b=True, which='minor')\n",
    "    plt.plot(history.history['sparse_top_k_categorical_accuracy'], label='Train')\n",
    "    plt.plot(history.history['val_sparse_top_k_categorical_accuracy'], label='Validation')\n",
    "    \n",
    "    plt.xlabel('Epochs')\n",
    "    plt.ylabel('Accuracy')\n",
    "    plt.legend()\n",
    "    plt.minorticks_on()\n",
    "    plt.grid(b=True, which='minor', color='#999999', linestyle='-', alpha=0.2)\n",
    "    plt.show()\n",
    "    \n"
   ]
  },
  {
   "cell_type": "code",
   "execution_count": 93,
   "metadata": {},
   "outputs": [
    {
     "data": {
      "text/plain": [
       "<Figure size 720x432 with 0 Axes>"
      ]
     },
     "metadata": {},
     "output_type": "display_data"
    },
    {
     "data": {
      "image/png": "[encoded data removed]",
      "text/plain": [
       "<Figure size 432x288 with 1 Axes>"
      ]
     },
     "metadata": {
      "needs_background": "light"
     },
     "output_type": "display_data"
    },
    {
     "name": "stdout",
     "output_type": "stream",
     "text": [
      "Minimum validation loss of 0.08292869147380537 reached at epoch 145\n"
     ]
    }
   ],
   "source": [
    "plot_loss(history, 'Train & Validation Loss')"
   ]
  },
  {
   "cell_type": "code",
   "execution_count": 94,
   "metadata": {},
   "outputs": [
    {
     "data": {
      "text/plain": [
       "<Figure size 720x432 with 0 Axes>"
      ]
     },
     "metadata": {},
     "output_type": "display_data"
    },
    {
     "data": {
      "image/png": "[encoded data removed]",
      "text/plain": [
       "<Figure size 432x288 with 1 Axes>"
      ]
     },
     "metadata": {
      "needs_background": "light"
     },
     "output_type": "display_data"
    },
    {
     "name": "stdout",
     "output_type": "stream",
     "text": [
      "Maximum validation Acc of 97.93242562075667 reached at epoch 145\n"
     ]
    }
   ],
   "source": [
    "plot_acc(history, 'Train & Validation accuracy')"
   ]
  },
  {
   "cell_type": "code",
   "execution_count": 95,
   "metadata": {},
   "outputs": [
    {
     "data": {
      "text/plain": [
       "<Figure size 720x360 with 0 Axes>"
      ]
     },
     "metadata": {},
     "output_type": "display_data"
    },
    {
     "data": {
      "image/png": "[encoded data removed]",
      "text/plain": [
       "<Figure size 432x288 with 1 Axes>"
      ]
     },
     "metadata": {
      "needs_background": "light"
     },
     "output_type": "display_data"
    }
   ],
   "source": [
    "plot_kacc(history, 'Train & Validation sparse_top_k_categorical_accuracy')"
   ]
  },
  {
   "cell_type": "code",
   "execution_count": 96,
   "metadata": {},
   "outputs": [
    {
     "data": {
      "text/plain": [
       "<Figure size 720x432 with 0 Axes>"
      ]
     },
     "metadata": {},
     "output_type": "display_data"
    },
    {
     "data": {
      "image/png": "[encoded data removed]",
      "text/plain": [
       "<Figure size 432x288 with 1 Axes>"
      ]
     },
     "metadata": {
      "needs_background": "light"
     },
     "output_type": "display_data"
    }
   ],
   "source": [
    "plot_accall(history)"
   ]
  },
  {
   "cell_type": "code",
   "execution_count": null,
   "metadata": {},
   "outputs": [],
   "source": [
    "# Save model and weights\n",
    "if not os.path.isdir(save_dir):\n",
    "    os.makedirs(save_dir)\n",
    "model_path = os.path.join(save_dir, model_name)\n",
    "model.save(model_path)\n",
    "print('Saved trained model at %s ' % model_path)"
   ]
  },
  {
   "cell_type": "code",
   "execution_count": null,
   "metadata": {},
   "outputs": [],
   "source": []
  }
 ],
 "metadata": {
  "kernelspec": {
   "display_name": "Python 3",
   "language": "python",
   "name": "python3"
  },
  "language_info": {
   "codemirror_mode": {
    "name": "ipython",
    "version": 3
   },
   "file_extension": ".py",
   "mimetype": "text/x-python",
   "name": "python",
   "nbconvert_exporter": "python",
   "pygments_lexer": "ipython3",
   "version": "3.7.6"
  }
 },
 "nbformat": 4,
 "nbformat_minor": 2
}
